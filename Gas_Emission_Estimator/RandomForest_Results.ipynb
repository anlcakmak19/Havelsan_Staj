{
 "cells": [
  {
   "cell_type": "code",
   "execution_count": 1,
   "id": "59d89796",
   "metadata": {},
   "outputs": [
    {
     "name": "stderr",
     "output_type": "stream",
     "text": [
      "C:\\Users\\anilo\\anaconda3\\lib\\site-packages\\scipy\\__init__.py:146: UserWarning: A NumPy version >=1.16.5 and <1.23.0 is required for this version of SciPy (detected version 1.23.0\n",
      "  warnings.warn(f\"A NumPy version >={np_minversion} and <{np_maxversion}\"\n"
     ]
    }
   ],
   "source": [
    "\n",
    "import numpy as np # \n",
    "import pandas as pd \n",
    "import requests, io \n",
    "import glob\n",
    "from pprint import pprint\n",
    "import matplotlib.pyplot as plt \n",
    "\n",
    "\n",
    "# scikit-learn modules\n",
    "from sklearn.model_selection import train_test_split \n",
    "from sklearn.metrics import mean_squared_error \n",
    "from sklearn.ensemble import RandomForestRegressor \n",
    "from sklearn.metrics import r2_score\n",
    "from sklearn.metrics import mean_absolute_error\n",
    "from sklearn.preprocessing import StandardScaler\n",
    "from sklearn.utils import shuffle\n",
    "from sklearn.model_selection import RandomizedSearchCV\n",
    "class color:\n",
    "   PURPLE = '\\033[95m'\n",
    "   CYAN = '\\033[96m'\n",
    "   DARKCYAN = '\\033[36m'\n",
    "   BLUE = '\\033[94m'\n",
    "   GREEN = '\\033[92m'\n",
    "   YELLOW = '\\033[93m'\n",
    "   RED = '\\033[91m'\n",
    "   BOLD = '\\033[1m'\n",
    "   UNDERLINE = '\\033[4m'\n",
    "   END = '\\033[0m'\n",
    "def Evolution_Metrics(model,x_test,y_test):\n",
    "    y_pred = model.predict(x_test)\n",
    "    mae = mean_absolute_error(y_test, y_pred)\n",
    "    mse = mean_squared_error(y_test, y_pred)\n",
    "    rmse = np.sqrt(mean_squared_error(y_test, y_pred))\n",
    "    r2 = r2_score(y_test, y_pred)\n",
    "    print(color.BOLD)\n",
    "    print('MAE: ',mae)\n",
    "    print('MSE: ',mse)\n",
    "    print('RMSE: ',rmse)\n",
    "    print('R2: ',r2)\n",
    "    print(color.END)"
   ]
  },
  {
   "cell_type": "markdown",
   "id": "1b1cc555",
   "metadata": {},
   "source": [
    "# M0000_FAU"
   ]
  },
  {
   "cell_type": "markdown",
   "id": "443d797d",
   "metadata": {},
   "source": [
    "**Train Datasets**"
   ]
  },
  {
   "cell_type": "code",
   "execution_count": 2,
   "id": "8cff2f95",
   "metadata": {},
   "outputs": [],
   "source": [
    "df=pd.read_csv(r'E:\\Havelsan\\Datasets\\M0000_train_sensors.csv', engine='c')\n",
    "SeaTemp='SW20'\n",
    "WindSpeed='WC0'\n",
    "Load='FAU'\n",
    "df=df[df['SeaTemp']==SeaTemp]\n",
    "df=df[df['WindSpeed']==WindSpeed]\n",
    "df=df[df['Load']==Load]\n",
    "result=df\n",
    "result.dropna(inplace=True)\n",
    "result.reset_index(drop=True,inplace=True)\n",
    "abr_sensor_list = ['E02005', 'E02006', 'E02056', 'E03760', 'G00027', 'G00108', 'G02011', 'N02015', 'P00023', 'P01005', 'P01302', 'P01303', 'P01600', 'P01602', 'P02055', 'P02065', 'P02066', 'P02071', 'P02072', 'Q02004', 'T00002', 'T01010', 'T01011', 'T01350', 'T01351', 'T01601', 'T01603', 'T02014', 'T02040', 'T02041', 'T02042', 'T02044', 'T04600', 'Z00518', 'Z01970', 'Z02013']\n",
    "df_sample=result[abr_sensor_list]\n",
    "x_train = df_sample.drop('Z02013', axis = 1) # Features\n",
    "y_train = df_sample['Z02013']  # Target"
   ]
  },
  {
   "cell_type": "markdown",
   "id": "ff51f01e",
   "metadata": {},
   "source": [
    "**Test Datasets**"
   ]
  },
  {
   "cell_type": "code",
   "execution_count": 3,
   "id": "aba32f1f",
   "metadata": {},
   "outputs": [],
   "source": [
    "dft=pd.read_csv(r'E:\\Havelsan\\Datasets\\M0000_test_sensors.csv', engine='c')\n",
    "dft=dft[dft['SeaTemp']==SeaTemp]\n",
    "dft=dft[dft['WindSpeed']==WindSpeed]\n",
    "dft=dft[dft['Load']==Load]\n",
    "dft.dropna(inplace=True)\n",
    "dft.reset_index(drop=True,inplace=True)\n",
    "abr_sensor_list = ['E02005', 'E02006', 'E02056', 'E03760', 'G00027', 'G00108', 'G02011', 'N02015', 'P00023', 'P01005', 'P01302', 'P01303', 'P01600', 'P01602', 'P02055', 'P02065', 'P02066', 'P02071', 'P02072', 'Q02004', 'T00002', 'T01010', 'T01011', 'T01350', 'T01351', 'T01601', 'T01603', 'T02014', 'T02040', 'T02041', 'T02042', 'T02044', 'T04600', 'Z00518', 'Z01970', 'Z02013']\n",
    "dft=dft[abr_sensor_list]\n",
    "x_test = dft.drop('Z02013', axis = 1) # Features\n",
    "y_test = dft['Z02013']  # Target"
   ]
  },
  {
   "cell_type": "markdown",
   "id": "ea410c41",
   "metadata": {},
   "source": [
    "**Base Model**"
   ]
  },
  {
   "cell_type": "code",
   "execution_count": 4,
   "id": "71818a8b",
   "metadata": {},
   "outputs": [
    {
     "data": {
      "text/plain": [
       "RandomForestRegressor(n_estimators=10, random_state=0)"
      ]
     },
     "execution_count": 4,
     "metadata": {},
     "output_type": "execute_result"
    }
   ],
   "source": [
    "# Initializing the Random Forest Regression model with 10 decision trees\n",
    "model = RandomForestRegressor(n_estimators = 10, random_state = 0)\n",
    "\n",
    "# Fitting the Random Forest Regression model to the data\n",
    "model.fit(x_train, y_train) "
   ]
  },
  {
   "cell_type": "code",
   "execution_count": 5,
   "id": "8ac08cdf",
   "metadata": {},
   "outputs": [
    {
     "name": "stdout",
     "output_type": "stream",
     "text": [
      "\u001b[1m\n",
      "MAE:  0.0019692701676392375\n",
      "MSE:  2.608539627674345e-05\n",
      "RMSE:  0.005107386442863263\n",
      "R2:  0.9822460873770426\n",
      "\u001b[0m\n"
     ]
    }
   ],
   "source": [
    "Evolution_Metrics(model,x_test,y_test)"
   ]
  },
  {
   "cell_type": "markdown",
   "id": "f6991e27",
   "metadata": {},
   "source": [
    "**Randomizied Search Best Parameters**"
   ]
  },
  {
   "cell_type": "code",
   "execution_count": 6,
   "id": "17159524",
   "metadata": {},
   "outputs": [
    {
     "data": {
      "text/plain": [
       "RandomForestRegressor(bootstrap=False, max_depth=30, max_features='log2',\n",
       "                      min_samples_split=5, n_estimators=400, n_jobs=-1,\n",
       "                      random_state=42)"
      ]
     },
     "execution_count": 6,
     "metadata": {},
     "output_type": "execute_result"
    }
   ],
   "source": [
    "# Create a RandomForestRegressor with the best parameters\n",
    "model_3 = RandomForestRegressor(\n",
    "   n_estimators= 400, \n",
    "    min_samples_split=5, \n",
    "    min_samples_leaf= 1, \n",
    "    max_features=\"log2\", \n",
    "    max_depth=30, \n",
    "    bootstrap=False,\n",
    "    random_state=42,  # Seed\n",
    "    n_jobs=-1  # Use all processors\n",
    ")\n",
    "\n",
    "model_3.fit(x_train, y_train)"
   ]
  },
  {
   "cell_type": "code",
   "execution_count": 7,
   "id": "2131449e",
   "metadata": {},
   "outputs": [
    {
     "name": "stdout",
     "output_type": "stream",
     "text": [
      "\u001b[1m\n",
      "MAE:  0.0016682301246703681\n",
      "MSE:  1.786738069870059e-05\n",
      "RMSE:  0.00422698245781794\n",
      "R2:  0.9878393292415243\n",
      "\u001b[0m\n"
     ]
    }
   ],
   "source": [
    "Evolution_Metrics(model_3,x_test,y_test)"
   ]
  },
  {
   "cell_type": "markdown",
   "id": "f3db2143",
   "metadata": {},
   "source": [
    "**Optuna Best Parameters**"
   ]
  },
  {
   "cell_type": "code",
   "execution_count": 8,
   "id": "76ec08aa",
   "metadata": {},
   "outputs": [],
   "source": [
    "#Best parameters: {'n_estimators': 1800, 'max_features': 'sqrt', 'max_depth': 120, 'min_samples_split': 5, 'min_samples_leaf': 2, 'bootstrap': False}"
   ]
  },
  {
   "cell_type": "code",
   "execution_count": 9,
   "id": "e359a022",
   "metadata": {},
   "outputs": [
    {
     "data": {
      "text/plain": [
       "RandomForestRegressor(bootstrap=False, max_depth=120, max_features='sqrt',\n",
       "                      min_samples_leaf=2, min_samples_split=5,\n",
       "                      n_estimators=1800, n_jobs=-1, random_state=42)"
      ]
     },
     "execution_count": 9,
     "metadata": {},
     "output_type": "execute_result"
    }
   ],
   "source": [
    "\n",
    "model_3 = RandomForestRegressor(\n",
    "    n_estimators= 1800, \n",
    "    min_samples_split=5, \n",
    "    min_samples_leaf= 2, \n",
    "    max_features=\"sqrt\", \n",
    "    max_depth=120, \n",
    "    bootstrap=False,\n",
    "    random_state=42,  # Seed\n",
    "    n_jobs=-1  # Use all processors\n",
    ")\n",
    "# Train the model\n",
    "model_3.fit(x_train, y_train)"
   ]
  },
  {
   "cell_type": "code",
   "execution_count": 10,
   "id": "61ed054e",
   "metadata": {},
   "outputs": [
    {
     "name": "stdout",
     "output_type": "stream",
     "text": [
      "\u001b[1m\n",
      "MAE:  0.0017023170709286129\n",
      "MSE:  1.7812054355918185e-05\n",
      "RMSE:  0.004220432958348964\n",
      "R2:  0.9878769847574722\n",
      "\u001b[0m\n"
     ]
    }
   ],
   "source": [
    "Evolution_Metrics(model_3,x_test,y_test)"
   ]
  },
  {
   "cell_type": "markdown",
   "id": "f60a9733",
   "metadata": {},
   "source": [
    "# M0000_FAL"
   ]
  },
  {
   "cell_type": "markdown",
   "id": "3f11c6d7",
   "metadata": {},
   "source": [
    "**Train Datasets**"
   ]
  },
  {
   "cell_type": "code",
   "execution_count": 11,
   "id": "b0812992",
   "metadata": {},
   "outputs": [],
   "source": [
    "df=pd.read_csv(r'E:\\Havelsan\\Datasets\\M0000_train_sensors.csv', engine='c')\n",
    "SeaTemp='SW20'\n",
    "WindSpeed='WC0'\n",
    "Load='FAL'\n",
    "df=df[df['SeaTemp']==SeaTemp]\n",
    "df=df[df['WindSpeed']==WindSpeed]\n",
    "df=df[df['Load']==Load]\n",
    "result=df\n",
    "result.dropna(inplace=True)\n",
    "result.reset_index(drop=True,inplace=True)\n",
    "abr_sensor_list = ['E02005', 'E02006', 'E02056', 'E03760', 'G00027', 'G00108', 'G02011', 'N02015', 'P00023', 'P01005', 'P01302', 'P01303', 'P01600', 'P01602', 'P02055', 'P02065', 'P02066', 'P02071', 'P02072', 'Q02004', 'T00002', 'T01010', 'T01011', 'T01350', 'T01351', 'T01601', 'T01603', 'T02014', 'T02040', 'T02041', 'T02042', 'T02044', 'T04600', 'Z00518', 'Z01970', 'Z02013']\n",
    "df_sample=result[abr_sensor_list]\n",
    "x_train = df_sample.drop('Z02013', axis = 1) # Features\n",
    "y_train = df_sample['Z02013']  # Target"
   ]
  },
  {
   "cell_type": "markdown",
   "id": "b3a73d1f",
   "metadata": {},
   "source": [
    "**Test Datasets**"
   ]
  },
  {
   "cell_type": "code",
   "execution_count": 12,
   "id": "496bd11b",
   "metadata": {},
   "outputs": [],
   "source": [
    "dft=pd.read_csv(r'E:\\Havelsan\\Datasets\\M0000_test_sensors.csv', engine='c')\n",
    "dft=dft[dft['SeaTemp']==SeaTemp]\n",
    "dft=dft[dft['WindSpeed']==WindSpeed]\n",
    "dft=dft[dft['Load']==Load]\n",
    "dft.dropna(inplace=True)\n",
    "dft.reset_index(drop=True,inplace=True)\n",
    "abr_sensor_list = ['E02005', 'E02006', 'E02056', 'E03760', 'G00027', 'G00108', 'G02011', 'N02015', 'P00023', 'P01005', 'P01302', 'P01303', 'P01600', 'P01602', 'P02055', 'P02065', 'P02066', 'P02071', 'P02072', 'Q02004', 'T00002', 'T01010', 'T01011', 'T01350', 'T01351', 'T01601', 'T01603', 'T02014', 'T02040', 'T02041', 'T02042', 'T02044', 'T04600', 'Z00518', 'Z01970', 'Z02013']\n",
    "dft=dft[abr_sensor_list]\n",
    "x_test = dft.drop('Z02013', axis = 1) # Features\n",
    "y_test = dft['Z02013']  # Target"
   ]
  },
  {
   "cell_type": "markdown",
   "id": "a3fa4fce",
   "metadata": {},
   "source": [
    "**Base Model**"
   ]
  },
  {
   "cell_type": "code",
   "execution_count": 13,
   "id": "a5b262ac",
   "metadata": {},
   "outputs": [
    {
     "data": {
      "text/plain": [
       "RandomForestRegressor(n_estimators=10, random_state=0)"
      ]
     },
     "execution_count": 13,
     "metadata": {},
     "output_type": "execute_result"
    }
   ],
   "source": [
    "# Initializing the Random Forest Regression model with 10 decision trees\n",
    "model = RandomForestRegressor(n_estimators = 10, random_state = 0)\n",
    "\n",
    "# Fitting the Random Forest Regression model to the data\n",
    "model.fit(x_train, y_train) "
   ]
  },
  {
   "cell_type": "code",
   "execution_count": 14,
   "id": "f6333039",
   "metadata": {},
   "outputs": [
    {
     "name": "stdout",
     "output_type": "stream",
     "text": [
      "\u001b[1m\n",
      "MAE:  0.0024314444158959557\n",
      "MSE:  7.624301802415181e-05\n",
      "RMSE:  0.008731724802360173\n",
      "R2:  0.9635959370154766\n",
      "\u001b[0m\n"
     ]
    }
   ],
   "source": [
    "Evolution_Metrics(model,x_test,y_test)"
   ]
  },
  {
   "cell_type": "markdown",
   "id": "8b4d5e92",
   "metadata": {},
   "source": [
    "**Optuna Best Parameters**"
   ]
  },
  {
   "cell_type": "code",
   "execution_count": 15,
   "id": "9153a783",
   "metadata": {},
   "outputs": [],
   "source": [
    "#Best parameters: {'n_estimators': 2000, 'max_features': 'log2', 'max_depth': 450, 'min_samples_split': 2, 'min_samples_leaf': 4, 'bootstrap': False}"
   ]
  },
  {
   "cell_type": "code",
   "execution_count": 16,
   "id": "281de356",
   "metadata": {},
   "outputs": [
    {
     "data": {
      "text/plain": [
       "RandomForestRegressor(bootstrap=False, max_depth=450, max_features='log2',\n",
       "                      min_samples_leaf=4, n_estimators=2000, n_jobs=-1,\n",
       "                      random_state=42)"
      ]
     },
     "execution_count": 16,
     "metadata": {},
     "output_type": "execute_result"
    }
   ],
   "source": [
    "model_3 = RandomForestRegressor(\n",
    "    n_estimators= 2000, \n",
    "    min_samples_split=2, \n",
    "    min_samples_leaf= 4, \n",
    "    max_features=\"log2\", \n",
    "    max_depth=450, \n",
    "    bootstrap=False,\n",
    "    random_state=42,  # Seed\n",
    "    n_jobs=-1  # Use all processors\n",
    ")\n",
    "# Train the model\n",
    "model_3.fit(x_train, y_train)"
   ]
  },
  {
   "cell_type": "code",
   "execution_count": 17,
   "id": "182fb6f0",
   "metadata": {},
   "outputs": [
    {
     "name": "stdout",
     "output_type": "stream",
     "text": [
      "\u001b[1m\n",
      "MAE:  0.0023376507384050005\n",
      "MSE:  6.000278011230617e-05\n",
      "RMSE:  0.007746146145813811\n",
      "R2:  0.9713502292660692\n",
      "\u001b[0m\n"
     ]
    }
   ],
   "source": [
    "Evolution_Metrics(model_3,x_test,y_test)"
   ]
  },
  {
   "cell_type": "markdown",
   "id": "f420749a",
   "metadata": {},
   "source": [
    "# M2503_FAU"
   ]
  },
  {
   "cell_type": "markdown",
   "id": "79cf9eba",
   "metadata": {},
   "source": [
    "**Train Datasets**"
   ]
  },
  {
   "cell_type": "code",
   "execution_count": 18,
   "id": "1631a91d",
   "metadata": {},
   "outputs": [],
   "source": [
    "df=pd.read_csv(r'E:\\Havelsan\\Datasets\\M2503_train_sensors.csv', engine='c')\n",
    "SeaTemp='SW20'\n",
    "WindSpeed='WC0'\n",
    "Load='FAU'\n",
    "df=df[df['SeaTemp']==SeaTemp]\n",
    "df=df[df['WindSpeed']==WindSpeed]\n",
    "df=df[df['Load']==Load]\n",
    "result=df\n",
    "result.dropna(inplace=True)\n",
    "result.reset_index(drop=True,inplace=True)\n",
    "abr_sensor_list = ['E02005', 'E02006', 'E02056', 'E03760', 'G00027', 'G00108', 'G02011', 'N02015', 'P00023', 'P01005', 'P01302', 'P01303', 'P01600', 'P01602', 'P02055', 'P02065', 'P02066', 'P02071', 'P02072', 'Q02004', 'T00002', 'T01010', 'T01011', 'T01350', 'T01351', 'T01601', 'T01603', 'T02014', 'T02040', 'T02041', 'T02042', 'T02044', 'T04600', 'Z00518', 'Z01970', 'Z02013']\n",
    "df_sample=result[abr_sensor_list]\n",
    "x_train = df_sample.drop('Z02013', axis = 1) # Features\n",
    "y_train = df_sample['Z02013']  # Target"
   ]
  },
  {
   "cell_type": "markdown",
   "id": "1c752129",
   "metadata": {},
   "source": [
    "**Test Datasets**"
   ]
  },
  {
   "cell_type": "code",
   "execution_count": 19,
   "id": "b8c3d450",
   "metadata": {},
   "outputs": [],
   "source": [
    "dft=pd.read_csv(r'E:\\Havelsan\\Datasets\\M2503_test_sensors.csv', engine='c')\n",
    "dft=dft[dft['SeaTemp']==SeaTemp]\n",
    "dft=dft[dft['WindSpeed']==WindSpeed]\n",
    "dft=dft[dft['Load']==Load]\n",
    "dft.dropna(inplace=True)\n",
    "dft.reset_index(drop=True,inplace=True)\n",
    "abr_sensor_list = ['E02005', 'E02006', 'E02056', 'E03760', 'G00027', 'G00108', 'G02011', 'N02015', 'P00023', 'P01005', 'P01302', 'P01303', 'P01600', 'P01602', 'P02055', 'P02065', 'P02066', 'P02071', 'P02072', 'Q02004', 'T00002', 'T01010', 'T01011', 'T01350', 'T01351', 'T01601', 'T01603', 'T02014', 'T02040', 'T02041', 'T02042', 'T02044', 'T04600', 'Z00518', 'Z01970', 'Z02013']\n",
    "dft=dft[abr_sensor_list]\n",
    "x_test = dft.drop('Z02013', axis = 1) # Features\n",
    "y_test = dft['Z02013']  # Target"
   ]
  },
  {
   "cell_type": "markdown",
   "id": "991a90c8",
   "metadata": {},
   "source": [
    "**Base Model**"
   ]
  },
  {
   "cell_type": "code",
   "execution_count": 20,
   "id": "619865e8",
   "metadata": {},
   "outputs": [
    {
     "data": {
      "text/plain": [
       "RandomForestRegressor(n_estimators=10, random_state=0)"
      ]
     },
     "execution_count": 20,
     "metadata": {},
     "output_type": "execute_result"
    }
   ],
   "source": [
    "# Initializing the Random Forest Regression model with 10 decision trees\n",
    "model = RandomForestRegressor(n_estimators = 10, random_state = 0)\n",
    "\n",
    "# Fitting the Random Forest Regression model to the data\n",
    "model.fit(x_train, y_train) "
   ]
  },
  {
   "cell_type": "code",
   "execution_count": 21,
   "id": "4bfd17fe",
   "metadata": {},
   "outputs": [
    {
     "name": "stdout",
     "output_type": "stream",
     "text": [
      "\u001b[1m\n",
      "MAE:  0.02007961363842738\n",
      "MSE:  0.0007937516518977585\n",
      "RMSE:  0.028173598490390937\n",
      "R2:  0.9998980855088034\n",
      "\u001b[0m\n"
     ]
    }
   ],
   "source": [
    "Evolution_Metrics(model,x_test,y_test)"
   ]
  },
  {
   "cell_type": "markdown",
   "id": "7546ff77",
   "metadata": {},
   "source": [
    "**Optuna Best Parameters**"
   ]
  },
  {
   "cell_type": "code",
   "execution_count": 22,
   "id": "0ca7b847",
   "metadata": {},
   "outputs": [],
   "source": [
    "#Best parameters: {'n_estimators': 1800, 'max_features': 'sqrt', 'max_depth': 230, 'min_samples_split': 2, 'min_samples_leaf': 1, 'bootstrap': True}"
   ]
  },
  {
   "cell_type": "code",
   "execution_count": 23,
   "id": "d5356022",
   "metadata": {},
   "outputs": [
    {
     "data": {
      "text/plain": [
       "RandomForestRegressor(max_depth=230, max_features='sqrt', n_estimators=1800,\n",
       "                      n_jobs=-1, random_state=42)"
      ]
     },
     "execution_count": 23,
     "metadata": {},
     "output_type": "execute_result"
    }
   ],
   "source": [
    "model_3 = RandomForestRegressor(\n",
    "    n_estimators= 1800, \n",
    "    min_samples_split=2, \n",
    "    min_samples_leaf= 1, \n",
    "    max_features=\"sqrt\", \n",
    "    max_depth=230, \n",
    "    bootstrap=True,\n",
    "    random_state=42,  # Seed\n",
    "    n_jobs=-1  # Use all processors\n",
    ")\n",
    "# Train the model\n",
    "model_3.fit(x_train, y_train)"
   ]
  },
  {
   "cell_type": "code",
   "execution_count": 24,
   "id": "1cd6c0cb",
   "metadata": {},
   "outputs": [
    {
     "name": "stdout",
     "output_type": "stream",
     "text": [
      "\u001b[1m\n",
      "MAE:  0.01759698350182122\n",
      "MSE:  0.000609739432631712\n",
      "RMSE:  0.02469290247483499\n",
      "R2:  0.9999217119310674\n",
      "\u001b[0m\n"
     ]
    }
   ],
   "source": [
    "Evolution_Metrics(model_3,x_test,y_test)"
   ]
  },
  {
   "cell_type": "markdown",
   "id": "2b277e62",
   "metadata": {},
   "source": [
    "# M2503_FAL"
   ]
  },
  {
   "cell_type": "markdown",
   "id": "f132b1ff",
   "metadata": {},
   "source": [
    "**Train Datasets**"
   ]
  },
  {
   "cell_type": "code",
   "execution_count": 25,
   "id": "f0629566",
   "metadata": {},
   "outputs": [],
   "source": [
    "df=pd.read_csv(r'E:\\Havelsan\\Datasets\\M2503_train_sensors.csv', engine='c')\n",
    "SeaTemp='SW20'\n",
    "WindSpeed='WC0'\n",
    "Load='FAL'\n",
    "df=df[df['SeaTemp']==SeaTemp]\n",
    "df=df[df['WindSpeed']==WindSpeed]\n",
    "df=df[df['Load']==Load]\n",
    "result=df\n",
    "result.dropna(inplace=True)\n",
    "result.reset_index(drop=True,inplace=True)\n",
    "abr_sensor_list = ['E02005', 'E02006', 'E02056', 'E03760', 'G00027', 'G00108', 'G02011', 'N02015', 'P00023', 'P01005', 'P01302', 'P01303', 'P01600', 'P01602', 'P02055', 'P02065', 'P02066', 'P02071', 'P02072', 'Q02004', 'T00002', 'T01010', 'T01011', 'T01350', 'T01351', 'T01601', 'T01603', 'T02014', 'T02040', 'T02041', 'T02042', 'T02044', 'T04600', 'Z00518', 'Z01970', 'Z02013']\n",
    "df_sample=result[abr_sensor_list]\n",
    "x_train = df_sample.drop('Z02013', axis = 1) # Features\n",
    "y_train = df_sample['Z02013']  # Target"
   ]
  },
  {
   "cell_type": "markdown",
   "id": "69dcea86",
   "metadata": {},
   "source": [
    "**Test Datasets**"
   ]
  },
  {
   "cell_type": "code",
   "execution_count": 26,
   "id": "c6100ddd",
   "metadata": {},
   "outputs": [],
   "source": [
    "dft=pd.read_csv(r'E:\\Havelsan\\Datasets\\M2503_test_sensors.csv', engine='c')\n",
    "dft=dft[dft['SeaTemp']==SeaTemp]\n",
    "dft=dft[dft['WindSpeed']==WindSpeed]\n",
    "dft=dft[dft['Load']==Load]\n",
    "dft.dropna(inplace=True)\n",
    "dft.reset_index(drop=True,inplace=True)\n",
    "abr_sensor_list = ['E02005', 'E02006', 'E02056', 'E03760', 'G00027', 'G00108', 'G02011', 'N02015', 'P00023', 'P01005', 'P01302', 'P01303', 'P01600', 'P01602', 'P02055', 'P02065', 'P02066', 'P02071', 'P02072', 'Q02004', 'T00002', 'T01010', 'T01011', 'T01350', 'T01351', 'T01601', 'T01603', 'T02014', 'T02040', 'T02041', 'T02042', 'T02044', 'T04600', 'Z00518', 'Z01970', 'Z02013']\n",
    "dft=dft[abr_sensor_list]\n",
    "x_test = dft.drop('Z02013', axis = 1) # Features\n",
    "y_test = dft['Z02013']  # Target"
   ]
  },
  {
   "cell_type": "markdown",
   "id": "6edb53ed",
   "metadata": {},
   "source": [
    "**Base Model**"
   ]
  },
  {
   "cell_type": "code",
   "execution_count": 27,
   "id": "9a145568",
   "metadata": {},
   "outputs": [
    {
     "data": {
      "text/plain": [
       "RandomForestRegressor(n_estimators=10, random_state=0)"
      ]
     },
     "execution_count": 27,
     "metadata": {},
     "output_type": "execute_result"
    }
   ],
   "source": [
    "# Initializing the Random Forest Regression model with 10 decision trees\n",
    "model = RandomForestRegressor(n_estimators = 10, random_state = 0)\n",
    "\n",
    "# Fitting the Random Forest Regression model to the data\n",
    "model.fit(x_train, y_train) "
   ]
  },
  {
   "cell_type": "code",
   "execution_count": 28,
   "id": "2e3fcda1",
   "metadata": {},
   "outputs": [
    {
     "name": "stdout",
     "output_type": "stream",
     "text": [
      "\u001b[1m\n",
      "MAE:  0.028728945281169264\n",
      "MSE:  0.0020164132038811185\n",
      "RMSE:  0.04490448979646822\n",
      "R2:  0.9998494688693416\n",
      "\u001b[0m\n"
     ]
    }
   ],
   "source": [
    "Evolution_Metrics(model,x_test,y_test)"
   ]
  },
  {
   "cell_type": "markdown",
   "id": "6d6ad297",
   "metadata": {},
   "source": [
    "**Optuna Best Parameters**"
   ]
  },
  {
   "cell_type": "code",
   "execution_count": 29,
   "id": "e171bac6",
   "metadata": {},
   "outputs": [],
   "source": [
    "#Best parameters: {'n_estimators': 1400, 'max_features': 'sqrt', 'max_depth': 340, 'min_samples_split': 2, 'min_samples_leaf': 2, 'bootstrap': False}"
   ]
  },
  {
   "cell_type": "code",
   "execution_count": 30,
   "id": "3e6c8d12",
   "metadata": {},
   "outputs": [
    {
     "data": {
      "text/plain": [
       "RandomForestRegressor(bootstrap=False, max_depth=340, max_features='sqrt',\n",
       "                      min_samples_leaf=2, n_estimators=1400, n_jobs=-1,\n",
       "                      random_state=42)"
      ]
     },
     "execution_count": 30,
     "metadata": {},
     "output_type": "execute_result"
    }
   ],
   "source": [
    "model_3 = RandomForestRegressor(\n",
    "    n_estimators= 1400, \n",
    "    min_samples_split=2, \n",
    "    min_samples_leaf= 2, \n",
    "    max_features=\"sqrt\", \n",
    "    max_depth=340, \n",
    "    bootstrap=False,\n",
    "    random_state=42,  # Seed\n",
    "    n_jobs=-1  # Use all processors\n",
    ")\n",
    "# Train the model\n",
    "model_3.fit(x_train, y_train)"
   ]
  },
  {
   "cell_type": "code",
   "execution_count": 31,
   "id": "6177a83b",
   "metadata": {},
   "outputs": [
    {
     "name": "stdout",
     "output_type": "stream",
     "text": [
      "\u001b[1m\n",
      "MAE:  0.02570917407155803\n",
      "MSE:  0.0016620767001564198\n",
      "RMSE:  0.04076857490956018\n",
      "R2:  0.999875921123491\n",
      "\u001b[0m\n"
     ]
    }
   ],
   "source": [
    "Evolution_Metrics(model_3,x_test,y_test)"
   ]
  },
  {
   "cell_type": "markdown",
   "id": "a3dd0921",
   "metadata": {},
   "source": [
    "#  M2508_FAU"
   ]
  },
  {
   "cell_type": "markdown",
   "id": "6b5ff518",
   "metadata": {},
   "source": [
    "**Train Datasets**"
   ]
  },
  {
   "cell_type": "code",
   "execution_count": 2,
   "id": "e6ff5a31",
   "metadata": {},
   "outputs": [],
   "source": [
    "df=pd.read_csv(r'E:\\Havelsan\\Datasets\\M2508_train_sensors.csv', engine='c')\n",
    "SeaTemp='SW20'\n",
    "WindSpeed='WC0'\n",
    "Load='FAU'\n",
    "df=df[df['SeaTemp']==SeaTemp]\n",
    "df=df[df['WindSpeed']==WindSpeed]\n",
    "df=df[df['Load']==Load]\n",
    "result=df\n",
    "result.dropna(inplace=True)\n",
    "result.reset_index(drop=True,inplace=True)\n",
    "abr_sensor_list = ['E02005', 'E02006', 'E02056', 'E03760', 'G00027', 'G00108', 'G02011', 'N02015', 'P00023', 'P01005', 'P01302', 'P01303', 'P01600', 'P01602', 'P02055', 'P02065', 'P02066', 'P02071', 'P02072', 'Q02004', 'T00002', 'T01010', 'T01011', 'T01350', 'T01351', 'T01601', 'T01603', 'T02014', 'T02040', 'T02041', 'T02042', 'T02044', 'T04600', 'Z00518', 'Z01970', 'Z02013']\n",
    "df_sample=result[abr_sensor_list]\n",
    "x_train = df_sample.drop('Z02013', axis = 1) # Features\n",
    "y_train = df_sample['Z02013']  # Target"
   ]
  },
  {
   "cell_type": "markdown",
   "id": "a45b3877",
   "metadata": {},
   "source": [
    "**Test Datasets**"
   ]
  },
  {
   "cell_type": "code",
   "execution_count": 3,
   "id": "c500de42",
   "metadata": {},
   "outputs": [],
   "source": [
    "dft=pd.read_csv(r'E:\\Havelsan\\Datasets\\M2508_test_sensors.csv', engine='c')\n",
    "dft=dft[dft['SeaTemp']==SeaTemp]\n",
    "dft=dft[dft['WindSpeed']==WindSpeed]\n",
    "dft=dft[dft['Load']==Load]\n",
    "dft.dropna(inplace=True)\n",
    "dft.reset_index(drop=True,inplace=True)\n",
    "abr_sensor_list = ['E02005', 'E02006', 'E02056', 'E03760', 'G00027', 'G00108', 'G02011', 'N02015', 'P00023', 'P01005', 'P01302', 'P01303', 'P01600', 'P01602', 'P02055', 'P02065', 'P02066', 'P02071', 'P02072', 'Q02004', 'T00002', 'T01010', 'T01011', 'T01350', 'T01351', 'T01601', 'T01603', 'T02014', 'T02040', 'T02041', 'T02042', 'T02044', 'T04600', 'Z00518', 'Z01970', 'Z02013']\n",
    "dft=dft[abr_sensor_list]\n",
    "x_test = dft.drop('Z02013', axis = 1) # Features\n",
    "y_test = dft['Z02013']  # Target"
   ]
  },
  {
   "cell_type": "markdown",
   "id": "abafa79f",
   "metadata": {},
   "source": [
    "**Base Model**"
   ]
  },
  {
   "cell_type": "code",
   "execution_count": 4,
   "id": "5fab2e55",
   "metadata": {},
   "outputs": [
    {
     "data": {
      "text/plain": [
       "RandomForestRegressor(n_estimators=10, random_state=0)"
      ]
     },
     "execution_count": 4,
     "metadata": {},
     "output_type": "execute_result"
    }
   ],
   "source": [
    "# Initializing the Random Forest Regression model with 10 decision trees\n",
    "model = RandomForestRegressor(n_estimators = 10, random_state = 0)\n",
    "\n",
    "# Fitting the Random Forest Regression model to the data\n",
    "model.fit(x_train, y_train) "
   ]
  },
  {
   "cell_type": "code",
   "execution_count": 5,
   "id": "c1880982",
   "metadata": {},
   "outputs": [
    {
     "name": "stdout",
     "output_type": "stream",
     "text": [
      "\u001b[1m\n",
      "MAE:  0.010011885653072556\n",
      "MSE:  0.006170643619405303\n",
      "RMSE:  0.07855344435099777\n",
      "R2:  0.9897059310328041\n",
      "\u001b[0m\n"
     ]
    }
   ],
   "source": [
    "Evolution_Metrics(model,x_test,y_test)"
   ]
  },
  {
   "cell_type": "markdown",
   "id": "01a16a9e",
   "metadata": {},
   "source": [
    "**Optuna Best Parameters**"
   ]
  },
  {
   "cell_type": "code",
   "execution_count": 6,
   "id": "3f2e82c1",
   "metadata": {},
   "outputs": [],
   "source": [
    "#Best parameters: {'n_estimators': 1200, 'max_features': 'log2', 'max_depth': 230, 'min_samples_split': 2, 'min_samples_leaf': 1, 'bootstrap': False}"
   ]
  },
  {
   "cell_type": "code",
   "execution_count": 16,
   "id": "4df5f29c",
   "metadata": {},
   "outputs": [
    {
     "data": {
      "text/plain": [
       "RandomForestRegressor(bootstrap=False, max_depth=230, max_features='log2',\n",
       "                      n_estimators=1000, n_jobs=-1, random_state=42)"
      ]
     },
     "execution_count": 16,
     "metadata": {},
     "output_type": "execute_result"
    }
   ],
   "source": [
    "model_3 = RandomForestRegressor(\n",
    "    n_estimators= 1000, \n",
    "    min_samples_split=2, \n",
    "    min_samples_leaf= 1, \n",
    "    max_features=\"log2\", \n",
    "    max_depth=230, \n",
    "    bootstrap=False,\n",
    "    random_state=42,  # Seed\n",
    "    n_jobs=-1  # Use all processors\n",
    ")\n",
    "# Train the model\n",
    "model_3.fit(x_train, y_train)"
   ]
  },
  {
   "cell_type": "code",
   "execution_count": 17,
   "id": "68449b39",
   "metadata": {},
   "outputs": [
    {
     "name": "stdout",
     "output_type": "stream",
     "text": [
      "\u001b[1m\n",
      "MAE:  0.01015857674119153\n",
      "MSE:  0.007305963230256938\n",
      "RMSE:  0.08547492749489138\n",
      "R2:  0.9878119538247925\n",
      "\u001b[0m\n"
     ]
    }
   ],
   "source": [
    "Evolution_Metrics(model_3,x_test,y_test)"
   ]
  },
  {
   "cell_type": "markdown",
   "id": "669c0adc",
   "metadata": {},
   "source": [
    "#  M2508_FAL"
   ]
  },
  {
   "cell_type": "markdown",
   "id": "c8b7c22b",
   "metadata": {},
   "source": [
    "**Train Datasets**"
   ]
  },
  {
   "cell_type": "code",
   "execution_count": 39,
   "id": "0b6530c5",
   "metadata": {},
   "outputs": [],
   "source": [
    "df=pd.read_csv(r'E:\\Havelsan\\Datasets\\M2508_train_sensors.csv', engine='c')\n",
    "SeaTemp='SW20'\n",
    "WindSpeed='WC0'\n",
    "Load='FAL'\n",
    "df=df[df['SeaTemp']==SeaTemp]\n",
    "df=df[df['WindSpeed']==WindSpeed]\n",
    "df=df[df['Load']==Load]\n",
    "result=df\n",
    "result.dropna(inplace=True)\n",
    "result.reset_index(drop=True,inplace=True)\n",
    "abr_sensor_list = ['E02005', 'E02006', 'E02056', 'E03760', 'G00027', 'G00108', 'G02011', 'N02015', 'P00023', 'P01005', 'P01302', 'P01303', 'P01600', 'P01602', 'P02055', 'P02065', 'P02066', 'P02071', 'P02072', 'Q02004', 'T00002', 'T01010', 'T01011', 'T01350', 'T01351', 'T01601', 'T01603', 'T02014', 'T02040', 'T02041', 'T02042', 'T02044', 'T04600', 'Z00518', 'Z01970', 'Z02013']\n",
    "df_sample=result[abr_sensor_list]\n",
    "x_train = df_sample.drop('Z02013', axis = 1) # Features\n",
    "y_train = df_sample['Z02013']  # Target"
   ]
  },
  {
   "cell_type": "markdown",
   "id": "739c9921",
   "metadata": {},
   "source": [
    "**Test Datasets**"
   ]
  },
  {
   "cell_type": "code",
   "execution_count": 40,
   "id": "f9c516b8",
   "metadata": {},
   "outputs": [],
   "source": [
    "dft=pd.read_csv(r'E:\\Havelsan\\Datasets\\M2508_test_sensors.csv', engine='c')\n",
    "dft=dft[dft['SeaTemp']==SeaTemp]\n",
    "dft=dft[dft['WindSpeed']==WindSpeed]\n",
    "dft=dft[dft['Load']==Load]\n",
    "dft.dropna(inplace=True)\n",
    "dft.reset_index(drop=True,inplace=True)\n",
    "abr_sensor_list = ['E02005', 'E02006', 'E02056', 'E03760', 'G00027', 'G00108', 'G02011', 'N02015', 'P00023', 'P01005', 'P01302', 'P01303', 'P01600', 'P01602', 'P02055', 'P02065', 'P02066', 'P02071', 'P02072', 'Q02004', 'T00002', 'T01010', 'T01011', 'T01350', 'T01351', 'T01601', 'T01603', 'T02014', 'T02040', 'T02041', 'T02042', 'T02044', 'T04600', 'Z00518', 'Z01970', 'Z02013']\n",
    "dft=dft[abr_sensor_list]\n",
    "x_test = dft.drop('Z02013', axis = 1) # Features\n",
    "y_test = dft['Z02013']  # Target"
   ]
  },
  {
   "cell_type": "markdown",
   "id": "fded3a46",
   "metadata": {},
   "source": [
    "**Base Model**"
   ]
  },
  {
   "cell_type": "code",
   "execution_count": 41,
   "id": "d4c388db",
   "metadata": {},
   "outputs": [
    {
     "data": {
      "text/plain": [
       "RandomForestRegressor(n_estimators=10, random_state=0)"
      ]
     },
     "execution_count": 41,
     "metadata": {},
     "output_type": "execute_result"
    }
   ],
   "source": [
    "# Initializing the Random Forest Regression model with 10 decision trees\n",
    "model = RandomForestRegressor(n_estimators = 10, random_state = 0)\n",
    "\n",
    "# Fitting the Random Forest Regression model to the data\n",
    "model.fit(x_train, y_train) "
   ]
  },
  {
   "cell_type": "code",
   "execution_count": 42,
   "id": "efe71a04",
   "metadata": {},
   "outputs": [
    {
     "name": "stdout",
     "output_type": "stream",
     "text": [
      "\u001b[1m\n",
      "MAE:  0.01207136862770884\n",
      "MSE:  0.01745337770959034\n",
      "RMSE:  0.13211123233696043\n",
      "R2:  0.938434542534289\n",
      "\u001b[0m\n"
     ]
    }
   ],
   "source": [
    "Evolution_Metrics(model,x_test,y_test)"
   ]
  },
  {
   "cell_type": "markdown",
   "id": "8b1726d1",
   "metadata": {},
   "source": [
    "**Optuna Best Parameters**"
   ]
  },
  {
   "cell_type": "code",
   "execution_count": 43,
   "id": "8f156293",
   "metadata": {},
   "outputs": [],
   "source": [
    "#Best parameters: {'n_estimators': 1400, 'max_features': 'auto', 'max_depth': 1000, 'min_samples_split': 2, 'min_samples_leaf': 1, 'bootstrap': True}"
   ]
  },
  {
   "cell_type": "code",
   "execution_count": 44,
   "id": "8c81c28e",
   "metadata": {},
   "outputs": [
    {
     "data": {
      "text/plain": [
       "RandomForestRegressor(max_depth=1000, n_estimators=1400, n_jobs=-1,\n",
       "                      random_state=42)"
      ]
     },
     "execution_count": 44,
     "metadata": {},
     "output_type": "execute_result"
    }
   ],
   "source": [
    "model_3 = RandomForestRegressor(\n",
    "    n_estimators= 1400, \n",
    "    min_samples_split=2, \n",
    "    min_samples_leaf= 1, \n",
    "    max_features=\"auto\", \n",
    "    max_depth=1000, \n",
    "    bootstrap=True,\n",
    "    random_state=42,  # Seed\n",
    "    n_jobs=-1  # Use all processors\n",
    ")\n",
    "# Train the model\n",
    "model_3.fit(x_train, y_train)"
   ]
  },
  {
   "cell_type": "code",
   "execution_count": 45,
   "id": "ccfa01db",
   "metadata": {},
   "outputs": [
    {
     "name": "stdout",
     "output_type": "stream",
     "text": [
      "\u001b[1m\n",
      "MAE:  0.01202899728282533\n",
      "MSE:  0.02272356845129992\n",
      "RMSE:  0.1507433860947137\n",
      "R2:  0.9198443470235016\n",
      "\u001b[0m\n"
     ]
    }
   ],
   "source": [
    "Evolution_Metrics(model_3,x_test,y_test)"
   ]
  },
  {
   "cell_type": "markdown",
   "id": "3dcf2652",
   "metadata": {},
   "source": [
    "#  ALL_FAL"
   ]
  },
  {
   "cell_type": "markdown",
   "id": "df3e3aea",
   "metadata": {},
   "source": [
    "**Train Datasets**"
   ]
  },
  {
   "cell_type": "code",
   "execution_count": 2,
   "id": "d2dfa81f",
   "metadata": {},
   "outputs": [],
   "source": [
    "df1=pd.read_csv(r'E:\\Havelsan\\Datasets\\M2508_train_sensors.csv', engine='c')\n",
    "df2=pd.read_csv(r'E:\\Havelsan\\Datasets\\M2503_train_sensors.csv', engine='c')\n",
    "df3=pd.read_csv(r'E:\\Havelsan\\Datasets\\M0000_train_sensors.csv', engine='c')\n",
    "df = pd.concat([df1,df2,df3], axis=0)\n",
    "SeaTemp='SW20'\n",
    "WindSpeed='WC0'\n",
    "Load='FAL'\n",
    "df=df[df['SeaTemp']==SeaTemp]\n",
    "df=df[df['WindSpeed']==WindSpeed]\n",
    "df=df[df['Load']==Load]\n",
    "result=df\n",
    "result.dropna(inplace=True)\n",
    "result.reset_index(drop=True,inplace=True)\n",
    "abr_sensor_list = ['E02005', 'E02006', 'E02056', 'E03760', 'G00027', 'G00108', 'G02011', 'N02015', 'P00023', 'P01005', 'P01302', 'P01303', 'P01600', 'P01602', 'P02055', 'P02065', 'P02066', 'P02071', 'P02072', 'Q02004', 'T00002', 'T01010', 'T01011', 'T01350', 'T01351', 'T01601', 'T01603', 'T02014', 'T02040', 'T02041', 'T02042', 'T02044', 'T04600', 'Z00518', 'Z01970', 'Z02013']\n",
    "df_sample=result[abr_sensor_list]\n",
    "x_train = df_sample.drop('Z02013', axis = 1) # Features\n",
    "y_train = df_sample['Z02013']  # Target"
   ]
  },
  {
   "cell_type": "markdown",
   "id": "3732b71c",
   "metadata": {},
   "source": [
    "**Test Datasets**"
   ]
  },
  {
   "cell_type": "code",
   "execution_count": 3,
   "id": "149bf5ea",
   "metadata": {},
   "outputs": [],
   "source": [
    "dft1=pd.read_csv(r'E:\\Havelsan\\Datasets\\M2508_test_sensors.csv', engine='c')\n",
    "dft2=pd.read_csv(r'E:\\Havelsan\\Datasets\\M2503_test_sensors.csv', engine='c')\n",
    "dft3=pd.read_csv(r'E:\\Havelsan\\Datasets\\M0000_test_sensors.csv', engine='c')\n",
    "dft = pd.concat([dft1,dft2,dft3], axis=0)\n",
    "dft=dft[dft['SeaTemp']==SeaTemp]\n",
    "dft=dft[dft['WindSpeed']==WindSpeed]\n",
    "dft=dft[dft['Load']==Load]\n",
    "dft.dropna(inplace=True)\n",
    "dft.reset_index(drop=True,inplace=True)\n",
    "abr_sensor_list = ['E02005', 'E02006', 'E02056', 'E03760', 'G00027', 'G00108', 'G02011', 'N02015', 'P00023', 'P01005', 'P01302', 'P01303', 'P01600', 'P01602', 'P02055', 'P02065', 'P02066', 'P02071', 'P02072', 'Q02004', 'T00002', 'T01010', 'T01011', 'T01350', 'T01351', 'T01601', 'T01603', 'T02014', 'T02040', 'T02041', 'T02042', 'T02044', 'T04600', 'Z00518', 'Z01970', 'Z02013']\n",
    "dft=dft[abr_sensor_list]\n",
    "x_test = dft.drop('Z02013', axis = 1) # Features\n",
    "y_test = dft['Z02013']  # Target"
   ]
  },
  {
   "cell_type": "markdown",
   "id": "62410648",
   "metadata": {},
   "source": [
    "**Base Model**"
   ]
  },
  {
   "cell_type": "code",
   "execution_count": 4,
   "id": "c022f76f",
   "metadata": {},
   "outputs": [
    {
     "data": {
      "text/plain": [
       "RandomForestRegressor(n_estimators=10, random_state=0)"
      ]
     },
     "execution_count": 4,
     "metadata": {},
     "output_type": "execute_result"
    }
   ],
   "source": [
    "# Initializing the Random Forest Regression model with 10 decision trees\n",
    "model = RandomForestRegressor(n_estimators = 10, random_state = 0)\n",
    "\n",
    "# Fitting the Random Forest Regression model to the data\n",
    "model.fit(x_train, y_train) "
   ]
  },
  {
   "cell_type": "code",
   "execution_count": 5,
   "id": "064d883a",
   "metadata": {},
   "outputs": [
    {
     "name": "stdout",
     "output_type": "stream",
     "text": [
      "\u001b[1m\n",
      "MAE:  0.013976220081759189\n",
      "MSE:  0.006779769861085962\n",
      "RMSE:  0.08233935791033327\n",
      "R2:  0.9993671344555162\n",
      "\u001b[0m\n"
     ]
    }
   ],
   "source": [
    "Evolution_Metrics(model,x_test,y_test)"
   ]
  },
  {
   "cell_type": "markdown",
   "id": "761f01c1",
   "metadata": {},
   "source": [
    "**Optuna Best Parameters**"
   ]
  },
  {
   "cell_type": "code",
   "execution_count": 6,
   "id": "9835d249",
   "metadata": {},
   "outputs": [],
   "source": [
    "#Best parameters: {'n_estimators': 800, 'max_features': 'auto', 'max_depth': 1000, 'min_samples_split': 10, 'min_samples_leaf': 6, 'bootstrap': False}"
   ]
  },
  {
   "cell_type": "code",
   "execution_count": 7,
   "id": "018b8320",
   "metadata": {},
   "outputs": [
    {
     "data": {
      "text/plain": [
       "RandomForestRegressor(bootstrap=False, max_depth=1000, min_samples_leaf=6,\n",
       "                      min_samples_split=10, n_estimators=800, n_jobs=-1,\n",
       "                      random_state=42)"
      ]
     },
     "execution_count": 7,
     "metadata": {},
     "output_type": "execute_result"
    }
   ],
   "source": [
    "model_3 = RandomForestRegressor(\n",
    "    n_estimators= 800, \n",
    "    min_samples_split=10, \n",
    "    min_samples_leaf= 6, \n",
    "    max_features=\"auto\", \n",
    "    max_depth=1000, \n",
    "    bootstrap=False,\n",
    "    random_state=42,  # Seed\n",
    "    n_jobs=-1  # Use all processors\n",
    ")\n",
    "# Train the model\n",
    "model_3.fit(x_train, y_train)"
   ]
  },
  {
   "cell_type": "code",
   "execution_count": 9,
   "id": "67ce05e6",
   "metadata": {},
   "outputs": [
    {
     "name": "stdout",
     "output_type": "stream",
     "text": [
      "\u001b[1m\n",
      "MAE:  0.01791308829630532\n",
      "MSE:  0.010924023244669314\n",
      "RMSE:  0.10451805224299443\n",
      "R2:  0.9989802842780294\n",
      "\u001b[0m\n"
     ]
    }
   ],
   "source": [
    "Evolution_Metrics(model_3,x_test,y_test)"
   ]
  },
  {
   "cell_type": "markdown",
   "id": "7105b7d6",
   "metadata": {},
   "source": [
    "#  ALL_FAU"
   ]
  },
  {
   "cell_type": "markdown",
   "id": "0299e4d1",
   "metadata": {},
   "source": [
    "**Train Datasets**"
   ]
  },
  {
   "cell_type": "code",
   "execution_count": 10,
   "id": "6d6c85e2",
   "metadata": {},
   "outputs": [],
   "source": [
    "df1=pd.read_csv(r'E:\\Havelsan\\Datasets\\M2508_train_sensors.csv', engine='c')\n",
    "df2=pd.read_csv(r'E:\\Havelsan\\Datasets\\M2503_train_sensors.csv', engine='c')\n",
    "df3=pd.read_csv(r'E:\\Havelsan\\Datasets\\M0000_train_sensors.csv', engine='c')\n",
    "df = pd.concat([df1,df2,df3], axis=0)\n",
    "SeaTemp='SW20'\n",
    "WindSpeed='WC0'\n",
    "Load='FAU'\n",
    "df=df[df['SeaTemp']==SeaTemp]\n",
    "df=df[df['WindSpeed']==WindSpeed]\n",
    "df=df[df['Load']==Load]\n",
    "result=df\n",
    "result.dropna(inplace=True)\n",
    "result.reset_index(drop=True,inplace=True)\n",
    "abr_sensor_list = ['E02005', 'E02006', 'E02056', 'E03760', 'G00027', 'G00108', 'G02011', 'N02015', 'P00023', 'P01005', 'P01302', 'P01303', 'P01600', 'P01602', 'P02055', 'P02065', 'P02066', 'P02071', 'P02072', 'Q02004', 'T00002', 'T01010', 'T01011', 'T01350', 'T01351', 'T01601', 'T01603', 'T02014', 'T02040', 'T02041', 'T02042', 'T02044', 'T04600', 'Z00518', 'Z01970', 'Z02013']\n",
    "df_sample=result[abr_sensor_list]\n",
    "x_train = df_sample.drop('Z02013', axis = 1) # Features\n",
    "y_train = df_sample['Z02013']  # Target"
   ]
  },
  {
   "cell_type": "markdown",
   "id": "2b312cbd",
   "metadata": {},
   "source": [
    "**Test Datasets**"
   ]
  },
  {
   "cell_type": "code",
   "execution_count": 11,
   "id": "26dcbbcf",
   "metadata": {},
   "outputs": [],
   "source": [
    "dft1=pd.read_csv(r'E:\\Havelsan\\Datasets\\M2508_test_sensors.csv', engine='c')\n",
    "dft2=pd.read_csv(r'E:\\Havelsan\\Datasets\\M2503_test_sensors.csv', engine='c')\n",
    "dft3=pd.read_csv(r'E:\\Havelsan\\Datasets\\M0000_test_sensors.csv', engine='c')\n",
    "dft = pd.concat([dft1,dft2,dft3], axis=0)\n",
    "dft=dft[dft['SeaTemp']==SeaTemp]\n",
    "dft=dft[dft['WindSpeed']==WindSpeed]\n",
    "dft=dft[dft['Load']==Load]\n",
    "dft.dropna(inplace=True)\n",
    "dft.reset_index(drop=True,inplace=True)\n",
    "abr_sensor_list = ['E02005', 'E02006', 'E02056', 'E03760', 'G00027', 'G00108', 'G02011', 'N02015', 'P00023', 'P01005', 'P01302', 'P01303', 'P01600', 'P01602', 'P02055', 'P02065', 'P02066', 'P02071', 'P02072', 'Q02004', 'T00002', 'T01010', 'T01011', 'T01350', 'T01351', 'T01601', 'T01603', 'T02014', 'T02040', 'T02041', 'T02042', 'T02044', 'T04600', 'Z00518', 'Z01970', 'Z02013']\n",
    "dft=dft[abr_sensor_list]\n",
    "x_test = dft.drop('Z02013', axis = 1) # Features\n",
    "y_test = dft['Z02013']  # Target"
   ]
  },
  {
   "cell_type": "markdown",
   "id": "b23eb071",
   "metadata": {},
   "source": [
    "**Base Model**"
   ]
  },
  {
   "cell_type": "code",
   "execution_count": 12,
   "id": "590defda",
   "metadata": {},
   "outputs": [
    {
     "data": {
      "text/plain": [
       "RandomForestRegressor(n_estimators=10, random_state=0)"
      ]
     },
     "execution_count": 12,
     "metadata": {},
     "output_type": "execute_result"
    }
   ],
   "source": [
    "# Initializing the Random Forest Regression model with 10 decision trees\n",
    "model = RandomForestRegressor(n_estimators = 10, random_state = 0)\n",
    "\n",
    "# Fitting the Random Forest Regression model to the data\n",
    "model.fit(x_train, y_train) "
   ]
  },
  {
   "cell_type": "code",
   "execution_count": 13,
   "id": "3851e7e4",
   "metadata": {},
   "outputs": [
    {
     "name": "stdout",
     "output_type": "stream",
     "text": [
      "\u001b[1m\n",
      "MAE:  0.010522175017728648\n",
      "MSE:  0.0021606878282932275\n",
      "RMSE:  0.04648319941971752\n",
      "R2:  0.9996876048256604\n",
      "\u001b[0m\n"
     ]
    }
   ],
   "source": [
    "Evolution_Metrics(model,x_test,y_test)"
   ]
  },
  {
   "cell_type": "markdown",
   "id": "f7618beb",
   "metadata": {},
   "source": [
    "**Optuna Best Parameters**"
   ]
  },
  {
   "cell_type": "code",
   "execution_count": 14,
   "id": "6ea3d18b",
   "metadata": {},
   "outputs": [],
   "source": [
    "#{'n_estimators': 1000, 'max_features': 'auto', 'max_depth': 780, 'min_samples_split': 14, 'min_samples_leaf': 8, 'bootstrap': True}"
   ]
  },
  {
   "cell_type": "code",
   "execution_count": 15,
   "id": "cb3661d1",
   "metadata": {},
   "outputs": [
    {
     "data": {
      "text/plain": [
       "RandomForestRegressor(bootstrap=False, max_depth=True, min_samples_leaf=8,\n",
       "                      min_samples_split=14, n_estimators=1000, n_jobs=-1,\n",
       "                      random_state=42)"
      ]
     },
     "execution_count": 15,
     "metadata": {},
     "output_type": "execute_result"
    }
   ],
   "source": [
    "model_3 = RandomForestRegressor(\n",
    "    n_estimators= 1000, \n",
    "    min_samples_split=14, \n",
    "    min_samples_leaf= 8, \n",
    "    max_features=\"auto\", \n",
    "    max_depth=True, \n",
    "    bootstrap=False,\n",
    "    random_state=42,  # Seed\n",
    "    n_jobs=-1  # Use all processors\n",
    ")\n",
    "# Train the model\n",
    "model_3.fit(x_train, y_train)"
   ]
  },
  {
   "cell_type": "code",
   "execution_count": 17,
   "id": "f6cec33f",
   "metadata": {},
   "outputs": [
    {
     "name": "stdout",
     "output_type": "stream",
     "text": [
      "\u001b[1m\n",
      "MAE:  0.6251985014097601\n",
      "MSE:  1.117086071954556\n",
      "RMSE:  1.0569229262129551\n",
      "R2:  0.838490181862064\n",
      "\u001b[0m\n"
     ]
    }
   ],
   "source": [
    "Evolution_Metrics(model_3,x_test,y_test)"
   ]
  },
  {
   "cell_type": "code",
   "execution_count": 20,
   "id": "a978ea54",
   "metadata": {},
   "outputs": [
    {
     "data": {
      "text/html": [
       "<img src=\"deneme.png\"/>"
      ],
      "text/plain": [
       "<IPython.core.display.Image object>"
      ]
     },
     "execution_count": 20,
     "metadata": {},
     "output_type": "execute_result"
    }
   ],
   "source": [
    "from IPython.display import Image\n",
    "from IPython.core.display import HTML \n",
    "Image(url= \"deneme.png\")"
   ]
  },
  {
   "cell_type": "code",
   "execution_count": null,
   "id": "d11cb612",
   "metadata": {},
   "outputs": [],
   "source": []
  }
 ],
 "metadata": {
  "kernelspec": {
   "display_name": "Python 3 (ipykernel)",
   "language": "python",
   "name": "python3"
  },
  "language_info": {
   "codemirror_mode": {
    "name": "ipython",
    "version": 3
   },
   "file_extension": ".py",
   "mimetype": "text/x-python",
   "name": "python",
   "nbconvert_exporter": "python",
   "pygments_lexer": "ipython3",
   "version": "3.9.7"
  }
 },
 "nbformat": 4,
 "nbformat_minor": 5
}
