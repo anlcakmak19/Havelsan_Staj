{
 "cells": [
  {
   "cell_type": "code",
   "execution_count": 1,
   "id": "a9b4b9f6",
   "metadata": {},
   "outputs": [
    {
     "name": "stderr",
     "output_type": "stream",
     "text": [
      "C:\\Users\\anilo\\anaconda3\\lib\\site-packages\\scipy\\__init__.py:146: UserWarning: A NumPy version >=1.16.5 and <1.23.0 is required for this version of SciPy (detected version 1.23.0\n",
      "  warnings.warn(f\"A NumPy version >={np_minversion} and <{np_maxversion}\"\n"
     ]
    }
   ],
   "source": [
    "import numpy as np # \n",
    "import pandas as pd \n",
    "import requests, io \n",
    "import glob\n",
    "from pprint import pprint\n",
    "import matplotlib.pyplot as plt \n",
    "%matplotlib inline\n",
    "\n",
    "# scikit-learn modules\n",
    "from sklearn.model_selection import train_test_split \n",
    "from sklearn.metrics import mean_squared_error \n",
    "from sklearn.ensemble import RandomForestRegressor \n",
    "from sklearn.metrics import r2_score\n",
    "from sklearn.metrics import mean_absolute_error\n",
    "from sklearn.preprocessing import StandardScaler\n",
    "from sklearn.utils import shuffle\n",
    "class color:\n",
    "   PURPLE = '\\033[95m'\n",
    "   CYAN = '\\033[96m'\n",
    "   DARKCYAN = '\\033[36m'\n",
    "   BLUE = '\\033[94m'\n",
    "   GREEN = '\\033[92m'\n",
    "   YELLOW = '\\033[93m'\n",
    "   RED = '\\033[91m'\n",
    "   BOLD = '\\033[1m'\n",
    "   UNDERLINE = '\\033[4m'\n",
    "   END = '\\033[0m'"
   ]
  },
  {
   "cell_type": "code",
   "execution_count": 2,
   "id": "1c2252d1",
   "metadata": {},
   "outputs": [],
   "source": [
    "def load_csv():\n",
    "    csv=glob.glob(r'E:\\Havelsan\\Datasets\\*_sensors.csv')\n",
    "    df_list = []\n",
    "    abr_sensor_list = ['E02005', 'E02006', 'E02056', 'E03760', 'G00027', 'G00108', 'G02011', 'N02015', 'P00023', 'P01005', 'P01302', 'P01303', 'P01600', 'P01602', 'P02055', 'P02065', 'P02066', 'P02071', 'P02072', 'Q02004', 'T00002', 'T01010', 'T01011', 'T01350', 'T01351', 'T01601', 'T01603', 'T02014', 'T02040', 'T02041', 'T02042', 'T02044', 'T04600', 'Z00518', 'Z01970', 'Z02013']\n",
    "    for c in csv:\n",
    "        df_list.append(pd.read_csv(c, engine='c',usecols=abr_sensor_list,dtype=np.float64))\n",
    "    result = pd.concat(df_list, axis=0)\n",
    "    result.dropna(inplace=True)\n",
    "    result.reset_index(drop=True,inplace=True)\n",
    "    return result"
   ]
  },
  {
   "cell_type": "code",
   "execution_count": 3,
   "id": "02b4e0b3",
   "metadata": {},
   "outputs": [],
   "source": [
    "df = load_csv()"
   ]
  },
  {
   "cell_type": "code",
   "execution_count": 4,
   "id": "cc96961d",
   "metadata": {},
   "outputs": [
    {
     "data": {
      "text/html": [
       "<div>\n",
       "<style scoped>\n",
       "    .dataframe tbody tr th:only-of-type {\n",
       "        vertical-align: middle;\n",
       "    }\n",
       "\n",
       "    .dataframe tbody tr th {\n",
       "        vertical-align: top;\n",
       "    }\n",
       "\n",
       "    .dataframe thead th {\n",
       "        text-align: right;\n",
       "    }\n",
       "</style>\n",
       "<table border=\"1\" class=\"dataframe\">\n",
       "  <thead>\n",
       "    <tr style=\"text-align: right;\">\n",
       "      <th></th>\n",
       "      <th>E02005</th>\n",
       "      <th>E02006</th>\n",
       "      <th>E02056</th>\n",
       "      <th>E03760</th>\n",
       "      <th>G00027</th>\n",
       "      <th>G00108</th>\n",
       "      <th>G02011</th>\n",
       "      <th>N02015</th>\n",
       "      <th>P00023</th>\n",
       "      <th>P01005</th>\n",
       "      <th>...</th>\n",
       "      <th>T01603</th>\n",
       "      <th>T02014</th>\n",
       "      <th>T02040</th>\n",
       "      <th>T02041</th>\n",
       "      <th>T02042</th>\n",
       "      <th>T02044</th>\n",
       "      <th>T04600</th>\n",
       "      <th>Z00518</th>\n",
       "      <th>Z01970</th>\n",
       "      <th>Z02013</th>\n",
       "    </tr>\n",
       "  </thead>\n",
       "  <tbody>\n",
       "    <tr>\n",
       "      <th>0</th>\n",
       "      <td>16.7722</td>\n",
       "      <td>432.7310</td>\n",
       "      <td>3647.98</td>\n",
       "      <td>16.5320</td>\n",
       "      <td>3.17834</td>\n",
       "      <td>3.43379</td>\n",
       "      <td>3.17827</td>\n",
       "      <td>74.0099</td>\n",
       "      <td>7.63862</td>\n",
       "      <td>2.15110</td>\n",
       "      <td>...</td>\n",
       "      <td>371.966</td>\n",
       "      <td>325.669</td>\n",
       "      <td>324.319</td>\n",
       "      <td>-1.34235</td>\n",
       "      <td>46.6942</td>\n",
       "      <td>48.6335</td>\n",
       "      <td>234.325</td>\n",
       "      <td>12.9326</td>\n",
       "      <td>14.9730</td>\n",
       "      <td>22.5361</td>\n",
       "    </tr>\n",
       "    <tr>\n",
       "      <th>1</th>\n",
       "      <td>16.7722</td>\n",
       "      <td>430.4790</td>\n",
       "      <td>3647.98</td>\n",
       "      <td>16.5320</td>\n",
       "      <td>3.17804</td>\n",
       "      <td>3.43365</td>\n",
       "      <td>3.17797</td>\n",
       "      <td>74.0099</td>\n",
       "      <td>7.63862</td>\n",
       "      <td>2.15192</td>\n",
       "      <td>...</td>\n",
       "      <td>371.966</td>\n",
       "      <td>325.669</td>\n",
       "      <td>324.319</td>\n",
       "      <td>-1.34641</td>\n",
       "      <td>46.6710</td>\n",
       "      <td>48.6335</td>\n",
       "      <td>234.329</td>\n",
       "      <td>12.9326</td>\n",
       "      <td>14.9747</td>\n",
       "      <td>22.5361</td>\n",
       "    </tr>\n",
       "    <tr>\n",
       "      <th>2</th>\n",
       "      <td>16.7722</td>\n",
       "      <td>428.2280</td>\n",
       "      <td>3647.98</td>\n",
       "      <td>16.5320</td>\n",
       "      <td>3.17774</td>\n",
       "      <td>3.43352</td>\n",
       "      <td>3.17767</td>\n",
       "      <td>74.0099</td>\n",
       "      <td>7.63878</td>\n",
       "      <td>2.15274</td>\n",
       "      <td>...</td>\n",
       "      <td>371.966</td>\n",
       "      <td>325.669</td>\n",
       "      <td>324.319</td>\n",
       "      <td>-1.35046</td>\n",
       "      <td>46.6477</td>\n",
       "      <td>48.6335</td>\n",
       "      <td>234.333</td>\n",
       "      <td>12.9326</td>\n",
       "      <td>14.9764</td>\n",
       "      <td>22.5361</td>\n",
       "    </tr>\n",
       "    <tr>\n",
       "      <th>3</th>\n",
       "      <td>16.7716</td>\n",
       "      <td>427.8040</td>\n",
       "      <td>3647.98</td>\n",
       "      <td>16.5315</td>\n",
       "      <td>3.17747</td>\n",
       "      <td>3.43323</td>\n",
       "      <td>3.17741</td>\n",
       "      <td>74.0096</td>\n",
       "      <td>7.63886</td>\n",
       "      <td>2.15277</td>\n",
       "      <td>...</td>\n",
       "      <td>371.937</td>\n",
       "      <td>325.664</td>\n",
       "      <td>324.310</td>\n",
       "      <td>-1.35320</td>\n",
       "      <td>46.6519</td>\n",
       "      <td>48.6335</td>\n",
       "      <td>234.339</td>\n",
       "      <td>12.9326</td>\n",
       "      <td>14.9774</td>\n",
       "      <td>22.5357</td>\n",
       "    </tr>\n",
       "    <tr>\n",
       "      <th>4</th>\n",
       "      <td>16.7710</td>\n",
       "      <td>427.3800</td>\n",
       "      <td>3647.98</td>\n",
       "      <td>16.5309</td>\n",
       "      <td>3.17721</td>\n",
       "      <td>3.43294</td>\n",
       "      <td>3.17714</td>\n",
       "      <td>74.0092</td>\n",
       "      <td>7.63894</td>\n",
       "      <td>2.15279</td>\n",
       "      <td>...</td>\n",
       "      <td>371.909</td>\n",
       "      <td>325.659</td>\n",
       "      <td>324.301</td>\n",
       "      <td>-1.35594</td>\n",
       "      <td>46.6560</td>\n",
       "      <td>48.6335</td>\n",
       "      <td>234.345</td>\n",
       "      <td>12.9326</td>\n",
       "      <td>14.9784</td>\n",
       "      <td>22.5354</td>\n",
       "    </tr>\n",
       "    <tr>\n",
       "      <th>...</th>\n",
       "      <td>...</td>\n",
       "      <td>...</td>\n",
       "      <td>...</td>\n",
       "      <td>...</td>\n",
       "      <td>...</td>\n",
       "      <td>...</td>\n",
       "      <td>...</td>\n",
       "      <td>...</td>\n",
       "      <td>...</td>\n",
       "      <td>...</td>\n",
       "      <td>...</td>\n",
       "      <td>...</td>\n",
       "      <td>...</td>\n",
       "      <td>...</td>\n",
       "      <td>...</td>\n",
       "      <td>...</td>\n",
       "      <td>...</td>\n",
       "      <td>...</td>\n",
       "      <td>...</td>\n",
       "      <td>...</td>\n",
       "      <td>...</td>\n",
       "    </tr>\n",
       "    <tr>\n",
       "      <th>4349881</th>\n",
       "      <td>12.4602</td>\n",
       "      <td>25.1648</td>\n",
       "      <td>2757.11</td>\n",
       "      <td>12.3641</td>\n",
       "      <td>2.87130</td>\n",
       "      <td>3.08811</td>\n",
       "      <td>2.87402</td>\n",
       "      <td>67.0734</td>\n",
       "      <td>7.72496</td>\n",
       "      <td>2.14855</td>\n",
       "      <td>...</td>\n",
       "      <td>471.218</td>\n",
       "      <td>413.021</td>\n",
       "      <td>371.033</td>\n",
       "      <td>-41.97550</td>\n",
       "      <td>57.9392</td>\n",
       "      <td>51.1324</td>\n",
       "      <td>300.477</td>\n",
       "      <td>16.0775</td>\n",
       "      <td>15.7389</td>\n",
       "      <td>31.6045</td>\n",
       "    </tr>\n",
       "    <tr>\n",
       "      <th>4349882</th>\n",
       "      <td>12.4691</td>\n",
       "      <td>25.1000</td>\n",
       "      <td>2757.11</td>\n",
       "      <td>12.3815</td>\n",
       "      <td>2.87130</td>\n",
       "      <td>3.08950</td>\n",
       "      <td>2.87441</td>\n",
       "      <td>67.0529</td>\n",
       "      <td>7.72578</td>\n",
       "      <td>2.14846</td>\n",
       "      <td>...</td>\n",
       "      <td>471.361</td>\n",
       "      <td>413.003</td>\n",
       "      <td>371.015</td>\n",
       "      <td>-41.97420</td>\n",
       "      <td>57.9217</td>\n",
       "      <td>51.1321</td>\n",
       "      <td>300.439</td>\n",
       "      <td>16.0790</td>\n",
       "      <td>15.7460</td>\n",
       "      <td>31.6222</td>\n",
       "    </tr>\n",
       "    <tr>\n",
       "      <th>4349883</th>\n",
       "      <td>12.4781</td>\n",
       "      <td>25.0352</td>\n",
       "      <td>2757.11</td>\n",
       "      <td>12.3989</td>\n",
       "      <td>2.87130</td>\n",
       "      <td>3.09090</td>\n",
       "      <td>2.87480</td>\n",
       "      <td>67.0323</td>\n",
       "      <td>7.72661</td>\n",
       "      <td>2.14838</td>\n",
       "      <td>...</td>\n",
       "      <td>471.503</td>\n",
       "      <td>412.986</td>\n",
       "      <td>370.997</td>\n",
       "      <td>-41.97280</td>\n",
       "      <td>57.9041</td>\n",
       "      <td>51.1318</td>\n",
       "      <td>300.400</td>\n",
       "      <td>16.0804</td>\n",
       "      <td>15.7530</td>\n",
       "      <td>31.6398</td>\n",
       "    </tr>\n",
       "    <tr>\n",
       "      <th>4349884</th>\n",
       "      <td>12.4870</td>\n",
       "      <td>24.9703</td>\n",
       "      <td>2757.11</td>\n",
       "      <td>12.4163</td>\n",
       "      <td>2.87130</td>\n",
       "      <td>3.09229</td>\n",
       "      <td>2.87519</td>\n",
       "      <td>67.0117</td>\n",
       "      <td>7.72743</td>\n",
       "      <td>2.14829</td>\n",
       "      <td>...</td>\n",
       "      <td>471.646</td>\n",
       "      <td>412.968</td>\n",
       "      <td>370.979</td>\n",
       "      <td>-41.97140</td>\n",
       "      <td>57.8865</td>\n",
       "      <td>51.1315</td>\n",
       "      <td>300.361</td>\n",
       "      <td>16.0819</td>\n",
       "      <td>15.7601</td>\n",
       "      <td>31.6574</td>\n",
       "    </tr>\n",
       "    <tr>\n",
       "      <th>4349885</th>\n",
       "      <td>12.4959</td>\n",
       "      <td>24.9055</td>\n",
       "      <td>2757.11</td>\n",
       "      <td>12.4337</td>\n",
       "      <td>2.87130</td>\n",
       "      <td>3.09369</td>\n",
       "      <td>2.87558</td>\n",
       "      <td>66.9912</td>\n",
       "      <td>7.72826</td>\n",
       "      <td>2.14820</td>\n",
       "      <td>...</td>\n",
       "      <td>471.788</td>\n",
       "      <td>412.950</td>\n",
       "      <td>370.960</td>\n",
       "      <td>-41.97010</td>\n",
       "      <td>57.8689</td>\n",
       "      <td>51.1312</td>\n",
       "      <td>300.322</td>\n",
       "      <td>16.0834</td>\n",
       "      <td>15.7671</td>\n",
       "      <td>31.6750</td>\n",
       "    </tr>\n",
       "  </tbody>\n",
       "</table>\n",
       "<p>4349886 rows × 36 columns</p>\n",
       "</div>"
      ],
      "text/plain": [
       "          E02005    E02006   E02056   E03760   G00027   G00108   G02011  \\\n",
       "0        16.7722  432.7310  3647.98  16.5320  3.17834  3.43379  3.17827   \n",
       "1        16.7722  430.4790  3647.98  16.5320  3.17804  3.43365  3.17797   \n",
       "2        16.7722  428.2280  3647.98  16.5320  3.17774  3.43352  3.17767   \n",
       "3        16.7716  427.8040  3647.98  16.5315  3.17747  3.43323  3.17741   \n",
       "4        16.7710  427.3800  3647.98  16.5309  3.17721  3.43294  3.17714   \n",
       "...          ...       ...      ...      ...      ...      ...      ...   \n",
       "4349881  12.4602   25.1648  2757.11  12.3641  2.87130  3.08811  2.87402   \n",
       "4349882  12.4691   25.1000  2757.11  12.3815  2.87130  3.08950  2.87441   \n",
       "4349883  12.4781   25.0352  2757.11  12.3989  2.87130  3.09090  2.87480   \n",
       "4349884  12.4870   24.9703  2757.11  12.4163  2.87130  3.09229  2.87519   \n",
       "4349885  12.4959   24.9055  2757.11  12.4337  2.87130  3.09369  2.87558   \n",
       "\n",
       "          N02015   P00023   P01005  ...   T01603   T02014   T02040    T02041  \\\n",
       "0        74.0099  7.63862  2.15110  ...  371.966  325.669  324.319  -1.34235   \n",
       "1        74.0099  7.63862  2.15192  ...  371.966  325.669  324.319  -1.34641   \n",
       "2        74.0099  7.63878  2.15274  ...  371.966  325.669  324.319  -1.35046   \n",
       "3        74.0096  7.63886  2.15277  ...  371.937  325.664  324.310  -1.35320   \n",
       "4        74.0092  7.63894  2.15279  ...  371.909  325.659  324.301  -1.35594   \n",
       "...          ...      ...      ...  ...      ...      ...      ...       ...   \n",
       "4349881  67.0734  7.72496  2.14855  ...  471.218  413.021  371.033 -41.97550   \n",
       "4349882  67.0529  7.72578  2.14846  ...  471.361  413.003  371.015 -41.97420   \n",
       "4349883  67.0323  7.72661  2.14838  ...  471.503  412.986  370.997 -41.97280   \n",
       "4349884  67.0117  7.72743  2.14829  ...  471.646  412.968  370.979 -41.97140   \n",
       "4349885  66.9912  7.72826  2.14820  ...  471.788  412.950  370.960 -41.97010   \n",
       "\n",
       "          T02042   T02044   T04600   Z00518   Z01970   Z02013  \n",
       "0        46.6942  48.6335  234.325  12.9326  14.9730  22.5361  \n",
       "1        46.6710  48.6335  234.329  12.9326  14.9747  22.5361  \n",
       "2        46.6477  48.6335  234.333  12.9326  14.9764  22.5361  \n",
       "3        46.6519  48.6335  234.339  12.9326  14.9774  22.5357  \n",
       "4        46.6560  48.6335  234.345  12.9326  14.9784  22.5354  \n",
       "...          ...      ...      ...      ...      ...      ...  \n",
       "4349881  57.9392  51.1324  300.477  16.0775  15.7389  31.6045  \n",
       "4349882  57.9217  51.1321  300.439  16.0790  15.7460  31.6222  \n",
       "4349883  57.9041  51.1318  300.400  16.0804  15.7530  31.6398  \n",
       "4349884  57.8865  51.1315  300.361  16.0819  15.7601  31.6574  \n",
       "4349885  57.8689  51.1312  300.322  16.0834  15.7671  31.6750  \n",
       "\n",
       "[4349886 rows x 36 columns]"
      ]
     },
     "execution_count": 4,
     "metadata": {},
     "output_type": "execute_result"
    }
   ],
   "source": [
    "df"
   ]
  },
  {
   "cell_type": "code",
   "execution_count": 6,
   "id": "41c54f5d",
   "metadata": {},
   "outputs": [],
   "source": [
    "df_sample = df.sample(n=100000, random_state=1)"
   ]
  },
  {
   "cell_type": "code",
   "execution_count": 7,
   "id": "412d8d03",
   "metadata": {},
   "outputs": [
    {
     "data": {
      "text/html": [
       "<div>\n",
       "<style scoped>\n",
       "    .dataframe tbody tr th:only-of-type {\n",
       "        vertical-align: middle;\n",
       "    }\n",
       "\n",
       "    .dataframe tbody tr th {\n",
       "        vertical-align: top;\n",
       "    }\n",
       "\n",
       "    .dataframe thead th {\n",
       "        text-align: right;\n",
       "    }\n",
       "</style>\n",
       "<table border=\"1\" class=\"dataframe\">\n",
       "  <thead>\n",
       "    <tr style=\"text-align: right;\">\n",
       "      <th></th>\n",
       "      <th>E02005</th>\n",
       "      <th>E02006</th>\n",
       "      <th>E02056</th>\n",
       "      <th>E03760</th>\n",
       "      <th>G00027</th>\n",
       "      <th>G00108</th>\n",
       "      <th>G02011</th>\n",
       "      <th>N02015</th>\n",
       "      <th>P00023</th>\n",
       "      <th>P01005</th>\n",
       "      <th>...</th>\n",
       "      <th>T01603</th>\n",
       "      <th>T02014</th>\n",
       "      <th>T02040</th>\n",
       "      <th>T02041</th>\n",
       "      <th>T02042</th>\n",
       "      <th>T02044</th>\n",
       "      <th>T04600</th>\n",
       "      <th>Z00518</th>\n",
       "      <th>Z01970</th>\n",
       "      <th>Z02013</th>\n",
       "    </tr>\n",
       "  </thead>\n",
       "  <tbody>\n",
       "    <tr>\n",
       "      <th>1640929</th>\n",
       "      <td>16.2380</td>\n",
       "      <td>213.1900</td>\n",
       "      <td>2856.31</td>\n",
       "      <td>16.6506</td>\n",
       "      <td>3.43057</td>\n",
       "      <td>3.70024</td>\n",
       "      <td>3.44181</td>\n",
       "      <td>72.2818</td>\n",
       "      <td>7.57186</td>\n",
       "      <td>2.12961</td>\n",
       "      <td>...</td>\n",
       "      <td>386.708</td>\n",
       "      <td>333.172</td>\n",
       "      <td>365.772</td>\n",
       "      <td>32.598600</td>\n",
       "      <td>49.4349</td>\n",
       "      <td>49.4572</td>\n",
       "      <td>245.518</td>\n",
       "      <td>14.4496</td>\n",
       "      <td>16.2131</td>\n",
       "      <td>31.8919</td>\n",
       "    </tr>\n",
       "    <tr>\n",
       "      <th>2024683</th>\n",
       "      <td>15.5343</td>\n",
       "      <td>272.7620</td>\n",
       "      <td>3319.60</td>\n",
       "      <td>14.8465</td>\n",
       "      <td>2.88524</td>\n",
       "      <td>3.12959</td>\n",
       "      <td>2.89603</td>\n",
       "      <td>73.8028</td>\n",
       "      <td>7.72228</td>\n",
       "      <td>2.15942</td>\n",
       "      <td>...</td>\n",
       "      <td>359.928</td>\n",
       "      <td>315.294</td>\n",
       "      <td>315.609</td>\n",
       "      <td>0.322540</td>\n",
       "      <td>44.0422</td>\n",
       "      <td>48.1632</td>\n",
       "      <td>225.995</td>\n",
       "      <td>12.8459</td>\n",
       "      <td>15.5458</td>\n",
       "      <td>22.4136</td>\n",
       "    </tr>\n",
       "    <tr>\n",
       "      <th>831508</th>\n",
       "      <td>14.0879</td>\n",
       "      <td>275.6840</td>\n",
       "      <td>3132.15</td>\n",
       "      <td>13.8719</td>\n",
       "      <td>2.62731</td>\n",
       "      <td>2.83497</td>\n",
       "      <td>2.62731</td>\n",
       "      <td>73.9989</td>\n",
       "      <td>7.78966</td>\n",
       "      <td>2.15580</td>\n",
       "      <td>...</td>\n",
       "      <td>348.443</td>\n",
       "      <td>305.616</td>\n",
       "      <td>304.080</td>\n",
       "      <td>-1.527170</td>\n",
       "      <td>43.0478</td>\n",
       "      <td>47.9900</td>\n",
       "      <td>220.567</td>\n",
       "      <td>12.8069</td>\n",
       "      <td>12.8416</td>\n",
       "      <td>19.9913</td>\n",
       "    </tr>\n",
       "    <tr>\n",
       "      <th>1675248</th>\n",
       "      <td>16.2312</td>\n",
       "      <td>346.6160</td>\n",
       "      <td>3195.68</td>\n",
       "      <td>14.6985</td>\n",
       "      <td>3.21486</td>\n",
       "      <td>3.52765</td>\n",
       "      <td>3.21486</td>\n",
       "      <td>69.4167</td>\n",
       "      <td>7.62793</td>\n",
       "      <td>2.13710</td>\n",
       "      <td>...</td>\n",
       "      <td>376.338</td>\n",
       "      <td>326.891</td>\n",
       "      <td>342.877</td>\n",
       "      <td>15.986500</td>\n",
       "      <td>46.8512</td>\n",
       "      <td>49.0683</td>\n",
       "      <td>237.103</td>\n",
       "      <td>13.5847</td>\n",
       "      <td>15.7114</td>\n",
       "      <td>27.2993</td>\n",
       "    </tr>\n",
       "    <tr>\n",
       "      <th>1880580</th>\n",
       "      <td>14.9129</td>\n",
       "      <td>109.8810</td>\n",
       "      <td>3339.81</td>\n",
       "      <td>14.5698</td>\n",
       "      <td>3.34816</td>\n",
       "      <td>3.63381</td>\n",
       "      <td>3.34816</td>\n",
       "      <td>70.9026</td>\n",
       "      <td>7.59121</td>\n",
       "      <td>2.13405</td>\n",
       "      <td>...</td>\n",
       "      <td>454.647</td>\n",
       "      <td>390.611</td>\n",
       "      <td>399.653</td>\n",
       "      <td>9.041920</td>\n",
       "      <td>55.1907</td>\n",
       "      <td>50.3178</td>\n",
       "      <td>284.080</td>\n",
       "      <td>15.4489</td>\n",
       "      <td>17.0226</td>\n",
       "      <td>32.5522</td>\n",
       "    </tr>\n",
       "    <tr>\n",
       "      <th>...</th>\n",
       "      <td>...</td>\n",
       "      <td>...</td>\n",
       "      <td>...</td>\n",
       "      <td>...</td>\n",
       "      <td>...</td>\n",
       "      <td>...</td>\n",
       "      <td>...</td>\n",
       "      <td>...</td>\n",
       "      <td>...</td>\n",
       "      <td>...</td>\n",
       "      <td>...</td>\n",
       "      <td>...</td>\n",
       "      <td>...</td>\n",
       "      <td>...</td>\n",
       "      <td>...</td>\n",
       "      <td>...</td>\n",
       "      <td>...</td>\n",
       "      <td>...</td>\n",
       "      <td>...</td>\n",
       "      <td>...</td>\n",
       "      <td>...</td>\n",
       "    </tr>\n",
       "    <tr>\n",
       "      <th>2285809</th>\n",
       "      <td>10.7742</td>\n",
       "      <td>24.5089</td>\n",
       "      <td>2242.70</td>\n",
       "      <td>10.2364</td>\n",
       "      <td>2.75303</td>\n",
       "      <td>3.00627</td>\n",
       "      <td>2.75615</td>\n",
       "      <td>64.1962</td>\n",
       "      <td>7.76090</td>\n",
       "      <td>2.13728</td>\n",
       "      <td>...</td>\n",
       "      <td>488.576</td>\n",
       "      <td>429.029</td>\n",
       "      <td>457.509</td>\n",
       "      <td>28.438800</td>\n",
       "      <td>58.5539</td>\n",
       "      <td>52.1868</td>\n",
       "      <td>308.388</td>\n",
       "      <td>17.7496</td>\n",
       "      <td>17.4933</td>\n",
       "      <td>40.4230</td>\n",
       "    </tr>\n",
       "    <tr>\n",
       "      <th>1281781</th>\n",
       "      <td>12.9547</td>\n",
       "      <td>24.9361</td>\n",
       "      <td>2420.39</td>\n",
       "      <td>13.1273</td>\n",
       "      <td>3.01332</td>\n",
       "      <td>3.23783</td>\n",
       "      <td>3.01332</td>\n",
       "      <td>67.2066</td>\n",
       "      <td>7.69514</td>\n",
       "      <td>2.14256</td>\n",
       "      <td>...</td>\n",
       "      <td>441.560</td>\n",
       "      <td>378.365</td>\n",
       "      <td>409.887</td>\n",
       "      <td>31.522100</td>\n",
       "      <td>55.0017</td>\n",
       "      <td>49.3135</td>\n",
       "      <td>281.969</td>\n",
       "      <td>16.1946</td>\n",
       "      <td>15.9571</td>\n",
       "      <td>38.8598</td>\n",
       "    </tr>\n",
       "    <tr>\n",
       "      <th>1872740</th>\n",
       "      <td>16.3411</td>\n",
       "      <td>472.2230</td>\n",
       "      <td>3611.37</td>\n",
       "      <td>16.7034</td>\n",
       "      <td>3.05858</td>\n",
       "      <td>3.35572</td>\n",
       "      <td>3.05858</td>\n",
       "      <td>73.8426</td>\n",
       "      <td>7.69629</td>\n",
       "      <td>2.14811</td>\n",
       "      <td>...</td>\n",
       "      <td>367.884</td>\n",
       "      <td>327.974</td>\n",
       "      <td>326.449</td>\n",
       "      <td>-1.525270</td>\n",
       "      <td>47.1454</td>\n",
       "      <td>48.7198</td>\n",
       "      <td>236.783</td>\n",
       "      <td>13.0007</td>\n",
       "      <td>15.5911</td>\n",
       "      <td>25.5375</td>\n",
       "    </tr>\n",
       "    <tr>\n",
       "      <th>3033182</th>\n",
       "      <td>15.2910</td>\n",
       "      <td>285.8300</td>\n",
       "      <td>3375.71</td>\n",
       "      <td>15.4926</td>\n",
       "      <td>2.83196</td>\n",
       "      <td>3.12900</td>\n",
       "      <td>2.84199</td>\n",
       "      <td>74.0335</td>\n",
       "      <td>7.72695</td>\n",
       "      <td>2.15861</td>\n",
       "      <td>...</td>\n",
       "      <td>360.250</td>\n",
       "      <td>314.894</td>\n",
       "      <td>316.000</td>\n",
       "      <td>1.105190</td>\n",
       "      <td>44.0250</td>\n",
       "      <td>48.1529</td>\n",
       "      <td>225.580</td>\n",
       "      <td>12.8309</td>\n",
       "      <td>15.3590</td>\n",
       "      <td>21.1562</td>\n",
       "    </tr>\n",
       "    <tr>\n",
       "      <th>652556</th>\n",
       "      <td>15.8308</td>\n",
       "      <td>274.5770</td>\n",
       "      <td>3551.32</td>\n",
       "      <td>16.0437</td>\n",
       "      <td>3.19821</td>\n",
       "      <td>3.43895</td>\n",
       "      <td>3.19821</td>\n",
       "      <td>69.7138</td>\n",
       "      <td>7.63908</td>\n",
       "      <td>2.14627</td>\n",
       "      <td>...</td>\n",
       "      <td>390.256</td>\n",
       "      <td>334.883</td>\n",
       "      <td>333.969</td>\n",
       "      <td>-0.935595</td>\n",
       "      <td>50.3950</td>\n",
       "      <td>48.7581</td>\n",
       "      <td>245.859</td>\n",
       "      <td>13.8318</td>\n",
       "      <td>15.8460</td>\n",
       "      <td>25.7582</td>\n",
       "    </tr>\n",
       "  </tbody>\n",
       "</table>\n",
       "<p>100000 rows × 36 columns</p>\n",
       "</div>"
      ],
      "text/plain": [
       "          E02005    E02006   E02056   E03760   G00027   G00108   G02011  \\\n",
       "1640929  16.2380  213.1900  2856.31  16.6506  3.43057  3.70024  3.44181   \n",
       "2024683  15.5343  272.7620  3319.60  14.8465  2.88524  3.12959  2.89603   \n",
       "831508   14.0879  275.6840  3132.15  13.8719  2.62731  2.83497  2.62731   \n",
       "1675248  16.2312  346.6160  3195.68  14.6985  3.21486  3.52765  3.21486   \n",
       "1880580  14.9129  109.8810  3339.81  14.5698  3.34816  3.63381  3.34816   \n",
       "...          ...       ...      ...      ...      ...      ...      ...   \n",
       "2285809  10.7742   24.5089  2242.70  10.2364  2.75303  3.00627  2.75615   \n",
       "1281781  12.9547   24.9361  2420.39  13.1273  3.01332  3.23783  3.01332   \n",
       "1872740  16.3411  472.2230  3611.37  16.7034  3.05858  3.35572  3.05858   \n",
       "3033182  15.2910  285.8300  3375.71  15.4926  2.83196  3.12900  2.84199   \n",
       "652556   15.8308  274.5770  3551.32  16.0437  3.19821  3.43895  3.19821   \n",
       "\n",
       "          N02015   P00023   P01005  ...   T01603   T02014   T02040     T02041  \\\n",
       "1640929  72.2818  7.57186  2.12961  ...  386.708  333.172  365.772  32.598600   \n",
       "2024683  73.8028  7.72228  2.15942  ...  359.928  315.294  315.609   0.322540   \n",
       "831508   73.9989  7.78966  2.15580  ...  348.443  305.616  304.080  -1.527170   \n",
       "1675248  69.4167  7.62793  2.13710  ...  376.338  326.891  342.877  15.986500   \n",
       "1880580  70.9026  7.59121  2.13405  ...  454.647  390.611  399.653   9.041920   \n",
       "...          ...      ...      ...  ...      ...      ...      ...        ...   \n",
       "2285809  64.1962  7.76090  2.13728  ...  488.576  429.029  457.509  28.438800   \n",
       "1281781  67.2066  7.69514  2.14256  ...  441.560  378.365  409.887  31.522100   \n",
       "1872740  73.8426  7.69629  2.14811  ...  367.884  327.974  326.449  -1.525270   \n",
       "3033182  74.0335  7.72695  2.15861  ...  360.250  314.894  316.000   1.105190   \n",
       "652556   69.7138  7.63908  2.14627  ...  390.256  334.883  333.969  -0.935595   \n",
       "\n",
       "          T02042   T02044   T04600   Z00518   Z01970   Z02013  \n",
       "1640929  49.4349  49.4572  245.518  14.4496  16.2131  31.8919  \n",
       "2024683  44.0422  48.1632  225.995  12.8459  15.5458  22.4136  \n",
       "831508   43.0478  47.9900  220.567  12.8069  12.8416  19.9913  \n",
       "1675248  46.8512  49.0683  237.103  13.5847  15.7114  27.2993  \n",
       "1880580  55.1907  50.3178  284.080  15.4489  17.0226  32.5522  \n",
       "...          ...      ...      ...      ...      ...      ...  \n",
       "2285809  58.5539  52.1868  308.388  17.7496  17.4933  40.4230  \n",
       "1281781  55.0017  49.3135  281.969  16.1946  15.9571  38.8598  \n",
       "1872740  47.1454  48.7198  236.783  13.0007  15.5911  25.5375  \n",
       "3033182  44.0250  48.1529  225.580  12.8309  15.3590  21.1562  \n",
       "652556   50.3950  48.7581  245.859  13.8318  15.8460  25.7582  \n",
       "\n",
       "[100000 rows x 36 columns]"
      ]
     },
     "execution_count": 7,
     "metadata": {},
     "output_type": "execute_result"
    }
   ],
   "source": [
    "df_sample"
   ]
  },
  {
   "cell_type": "code",
   "execution_count": 8,
   "id": "b4c828a3",
   "metadata": {},
   "outputs": [],
   "source": [
    "x = df_sample.drop('Z02013', axis = 1) # Features\n",
    "y = df_sample['Z02013']  # Target"
   ]
  },
  {
   "cell_type": "code",
   "execution_count": 9,
   "id": "2f61adad",
   "metadata": {},
   "outputs": [],
   "source": [
    "def Evolution_Metrics(model,x_test,y_test):\n",
    "    y_pred = model.predict(x_test)\n",
    "    mae = mean_absolute_error(y_test, y_pred)\n",
    "    mse = mean_squared_error(y_test, y_pred)\n",
    "    rmse = np.sqrt(mean_squared_error(y_test, y_pred))\n",
    "    r2 = r2_score(y_test, y_pred)\n",
    "    print(color.BOLD)\n",
    "    print('MAE: ',mae)\n",
    "    print('MSE: ',mse)\n",
    "    print('RMSE: ',rmse)\n",
    "    print('R2: ',r2)\n",
    "    print(color.END)"
   ]
  },
  {
   "cell_type": "markdown",
   "id": "eda1997a",
   "metadata": {},
   "source": [
    "# Base Model"
   ]
  },
  {
   "cell_type": "code",
   "execution_count": 10,
   "id": "8e113982",
   "metadata": {},
   "outputs": [],
   "source": [
    "# Splitting the dataset into training and testing set (80/20)\n",
    "x_train, x_test, y_train, y_test = train_test_split(x, y, test_size = 0.2, random_state = 28)"
   ]
  },
  {
   "cell_type": "code",
   "execution_count": 11,
   "id": "7e80a72d",
   "metadata": {},
   "outputs": [
    {
     "data": {
      "text/plain": [
       "RandomForestRegressor(n_estimators=10, random_state=0)"
      ]
     },
     "execution_count": 11,
     "metadata": {},
     "output_type": "execute_result"
    }
   ],
   "source": [
    "# Initializing the Random Forest Regression model with 10 decision trees\n",
    "model = RandomForestRegressor(n_estimators = 10, random_state = 0)\n",
    "\n",
    "# Fitting the Random Forest Regression model to the data\n",
    "model.fit(x_train, y_train) "
   ]
  },
  {
   "cell_type": "code",
   "execution_count": 12,
   "id": "46b347de",
   "metadata": {},
   "outputs": [
    {
     "name": "stdout",
     "output_type": "stream",
     "text": [
      "\u001b[1m\n",
      "MAE:  0.40388421980000005\n",
      "MSE:  0.6613043192313651\n",
      "RMSE:  0.8132061972411211\n",
      "R2:  0.9721524883300036\n",
      "\u001b[0m\n"
     ]
    }
   ],
   "source": [
    "Evolution_Metrics(model,x_test,y_test)"
   ]
  },
  {
   "cell_type": "markdown",
   "id": "37a4c00b",
   "metadata": {},
   "source": [
    "# Base Model with Normalized data"
   ]
  },
  {
   "cell_type": "code",
   "execution_count": 13,
   "id": "a44cf50f",
   "metadata": {},
   "outputs": [],
   "source": [
    "scaler = StandardScaler()\n",
    "x_scaled = scaler.fit_transform(x)"
   ]
  },
  {
   "cell_type": "code",
   "execution_count": 14,
   "id": "cc28a67d",
   "metadata": {},
   "outputs": [],
   "source": [
    "# Splitting the dataset into training and testing set (80/20)\n",
    "x_train, x_test, y_train, y_test = train_test_split(x_scaled, y, test_size = 0.2, random_state = 28)"
   ]
  },
  {
   "cell_type": "code",
   "execution_count": 15,
   "id": "5f66ba94",
   "metadata": {},
   "outputs": [
    {
     "data": {
      "text/plain": [
       "RandomForestRegressor(n_estimators=10, random_state=0)"
      ]
     },
     "execution_count": 15,
     "metadata": {},
     "output_type": "execute_result"
    }
   ],
   "source": [
    "# Initializing the Random Forest Regression model with 10 decision trees\n",
    "model = RandomForestRegressor(n_estimators = 10, random_state = 0)\n",
    "\n",
    "# Fitting the Random Forest Regression model to the data\n",
    "model.fit(x_train, y_train) "
   ]
  },
  {
   "cell_type": "code",
   "execution_count": 16,
   "id": "2b1d9957",
   "metadata": {},
   "outputs": [
    {
     "name": "stdout",
     "output_type": "stream",
     "text": [
      "\u001b[1m\n",
      "MAE:  0.4036543114\n",
      "MSE:  0.6602966404929862\n",
      "RMSE:  0.8125863895568188\n",
      "R2:  0.9721949216615433\n",
      "\u001b[0m\n"
     ]
    }
   ],
   "source": [
    "Evolution_Metrics(model,x_test,y_test)"
   ]
  },
  {
   "cell_type": "markdown",
   "id": "82a51c2b",
   "metadata": {},
   "source": [
    "# Base model with Pca"
   ]
  },
  {
   "cell_type": "code",
   "execution_count": 17,
   "id": "de88f7ec",
   "metadata": {},
   "outputs": [
    {
     "data": {
      "image/png": "[encoded data removed]",
      "text/plain": [
       "<Figure size 432x288 with 1 Axes>"
      ]
     },
     "metadata": {
      "needs_background": "light"
     },
     "output_type": "display_data"
    }
   ],
   "source": [
    "from sklearn.decomposition import PCA\n",
    "# Normalize data\n",
    "scaler = StandardScaler()\n",
    "df_scaled = scaler.fit_transform(x)\n",
    "\n",
    "# Fit PCA with all components\n",
    "pca = PCA()\n",
    "pca.fit(df_scaled)\n",
    "\n",
    "# Plot cumulative explained variance\n",
    "plt.figure()\n",
    "plt.plot(np.cumsum(pca.explained_variance_ratio_))\n",
    "plt.xlabel('Number of Components')\n",
    "plt.ylabel('Cumulative Explained Variance')\n",
    "plt.title('Explained Variance by Components')\n",
    "plt.show()"
   ]
  },
  {
   "cell_type": "code",
   "execution_count": 18,
   "id": "88026a51",
   "metadata": {},
   "outputs": [
    {
     "name": "stdout",
     "output_type": "stream",
     "text": [
      "0 0.4255472532595904\n",
      "1 0.6521345982453605\n",
      "2 0.747055074734142\n",
      "3 0.8180385462062798\n",
      "4 0.8533360691134269\n",
      "5 0.8851054319767155\n",
      "6 0.9106138844993267\n",
      "7 0.9334249602923179\n",
      "8 0.9488425199456787\n",
      "9 0.9615666962243016\n",
      "10 0.97096211917343\n",
      "11 0.9775761005354014\n",
      "12 0.983408071707099\n",
      "13 0.9877458306717732\n",
      "14 0.9907529907688174\n",
      "15 0.992705758948339\n",
      "16 0.9944124686685731\n",
      "17 0.9959345786932311\n",
      "18 0.9967876120568108\n",
      "19 0.9974566346086085\n",
      "20 0.9979911071831413\n",
      "21 0.9984821575702999\n",
      "22 0.9988528861225697\n",
      "23 0.9991442718053165\n",
      "24 0.9994054785065096\n",
      "25 0.9995669261201461\n",
      "26 0.9997124180623959\n",
      "27 0.999817818616946\n",
      "28 0.9998884692273837\n",
      "29 0.999941092802856\n",
      "30 0.9999803242010797\n",
      "31 0.9999976471750153\n",
      "32 0.9999996314232115\n",
      "33 0.9999999834217658\n",
      "34 0.9999999999999999\n"
     ]
    }
   ],
   "source": [
    "for d in range(len(np.cumsum(pca.explained_variance_ratio_))):\n",
    "    print(str(d)+\" \"+str(np.cumsum(pca.explained_variance_ratio_)[d]))"
   ]
  },
  {
   "cell_type": "code",
   "execution_count": 19,
   "id": "71285646",
   "metadata": {},
   "outputs": [],
   "source": [
    "pca = PCA(n_components=19)\n",
    "X_pca = pca.fit_transform(x)\n",
    "# Splitting the dataset into training and testing set (80/20)\n",
    "x_train, x_test, y_train, y_test = train_test_split(X_pca, y, test_size = 0.2, random_state = 28)"
   ]
  },
  {
   "cell_type": "code",
   "execution_count": 20,
   "id": "75b0b6ec",
   "metadata": {},
   "outputs": [
    {
     "data": {
      "text/plain": [
       "RandomForestRegressor(n_estimators=10, random_state=0)"
      ]
     },
     "execution_count": 20,
     "metadata": {},
     "output_type": "execute_result"
    }
   ],
   "source": [
    "# Initializing the Random Forest Regression model with 10 decision trees\n",
    "model = RandomForestRegressor(n_estimators = 10, random_state = 0)\n",
    "\n",
    "# Fitting the Random Forest Regression model to the data\n",
    "model.fit(x_train, y_train) "
   ]
  },
  {
   "cell_type": "code",
   "execution_count": 21,
   "id": "8f00a969",
   "metadata": {},
   "outputs": [
    {
     "name": "stdout",
     "output_type": "stream",
     "text": [
      "\u001b[1m\n",
      "MAE:  0.54662984622\n",
      "MSE:  1.1451387724007875\n",
      "RMSE:  1.0701115700714516\n",
      "R2:  0.951778229174034\n",
      "\u001b[0m\n"
     ]
    }
   ],
   "source": [
    "Evolution_Metrics(model,x_test,y_test)"
   ]
  },
  {
   "cell_type": "markdown",
   "id": "6a490d75",
   "metadata": {},
   "source": [
    "# Base model Parameters"
   ]
  },
  {
   "cell_type": "code",
   "execution_count": 29,
   "id": "91ae9c77",
   "metadata": {},
   "outputs": [
    {
     "name": "stdout",
     "output_type": "stream",
     "text": [
      "Parameters currently in use:\n",
      "\n",
      "{'bootstrap': True,\n",
      " 'ccp_alpha': 0.0,\n",
      " 'criterion': 'mse',\n",
      " 'max_depth': None,\n",
      " 'max_features': 'auto',\n",
      " 'max_leaf_nodes': None,\n",
      " 'max_samples': None,\n",
      " 'min_impurity_decrease': 0.0,\n",
      " 'min_impurity_split': None,\n",
      " 'min_samples_leaf': 1,\n",
      " 'min_samples_split': 2,\n",
      " 'min_weight_fraction_leaf': 0.0,\n",
      " 'n_estimators': 10,\n",
      " 'n_jobs': None,\n",
      " 'oob_score': False,\n",
      " 'random_state': 0,\n",
      " 'verbose': 0,\n",
      " 'warm_start': False}\n"
     ]
    }
   ],
   "source": [
    "print('Parameters currently in use:\\n')\n",
    "pprint(model.get_params())"
   ]
  },
  {
   "cell_type": "markdown",
   "id": "235edb9e",
   "metadata": {},
   "source": [
    "**Parameters**"
   ]
  },
  {
   "cell_type": "markdown",
   "id": "b7d9201f",
   "metadata": {},
   "source": [
    "n_estimators : Number of trees in random forest<br>\n",
    "max_features : Number of features to consider at every split<br>\n",
    "max_depth : Maximum number of levels in tree<br>\n",
    "min_samples_split : Minimum number of samples required to split a node<br>\n",
    "min_samples_leaf : Minimum number of samples required at each leaf node<br>"
   ]
  },
  {
   "cell_type": "markdown",
   "id": "d25d8e49",
   "metadata": {},
   "source": [
    "# Randomizied Search"
   ]
  },
  {
   "cell_type": "markdown",
   "id": "9703ff78",
   "metadata": {},
   "source": [
    "**Data prepare**"
   ]
  },
  {
   "cell_type": "code",
   "execution_count": null,
   "id": "cc22ce8a",
   "metadata": {},
   "outputs": [],
   "source": [
    "abr_sensor_list = ['E02005', 'E02006', 'E02056', 'E03760', 'G00027', 'G00108', 'G02011', 'N02015', 'P00023', 'P01005', 'P01302', 'P01303', 'P01600', 'P01602', 'P02055', 'P02065', 'P02066', 'P02071', 'P02072', 'Q02004', 'T00002', 'T01010', 'T01011', 'T01350', 'T01351', 'T01601', 'T01603', 'T02014', 'T02040', 'T02041', 'T02042', 'T02044', 'T04600', 'Z00518', 'Z01970', 'Z02013']\n",
    "df_M0000=pd.read_csv(r'E:\\Havelsan\\Datasets\\M0000_train_sensors.csv', engine='c',usecols=abr_sensor_list,dtype=np.float64)\n",
    "df_M2503=pd.read_csv(r'E:\\Havelsan\\Datasets\\M2503_train_sensors.csv', engine='c',usecols=abr_sensor_list,dtype=np.float64)\n",
    "df_M2506=pd.read_csv(r'E:\\Havelsan\\Datasets\\M2506_train_sensors.csv', engine='c',usecols=abr_sensor_list,dtype=np.float64)\n",
    "df_M2508=pd.read_csv(r'E:\\Havelsan\\Datasets\\M2508_train_sensors.csv', engine='c',usecols=abr_sensor_list,dtype=np.float64)\n",
    "df_M0000_sample = df_M0000.sample(n=10000, random_state=1)\n",
    "df_M2503_sample = df_M2503.sample(n=10000, random_state=1)\n",
    "df_M2506_sample = df_M2506.sample(n=10000, random_state=1)\n",
    "df_M2508_sample = df_M2508.sample(n=10000, random_state=1)\n",
    "df = pd.concat([df_M2506_sample,df_M2508_sample,df_M2503_sample,df_M0000_sample], axis=0)\n",
    "df.dropna(inplace=True)\n",
    "df.reset_index(drop=True,inplace=True)\n",
    "df = shuffle(df)\n",
    "x = df.drop('Z02013', axis = 1) # Features\n",
    "y = df['Z02013']  # Target"
   ]
  },
  {
   "cell_type": "markdown",
   "id": "37dca704",
   "metadata": {},
   "source": [
    "**Case1**"
   ]
  },
  {
   "cell_type": "code",
   "execution_count": null,
   "id": "04589445",
   "metadata": {},
   "outputs": [],
   "source": [
    "n_estimators = [int(x) for x in np.linspace(start = 200, stop = 2000, num = 10)]\n",
    "max_features = ['auto', 'sqrt','log2']\n",
    "max_depth = [int(x) for x in np.linspace(10, 1000,10)]\n",
    "min_samples_split = [2, 5, 10,14]\n",
    "min_samples_leaf = [1, 2, 4,6,8]\n",
    "random_grid = {'n_estimators': n_estimators,\n",
    "               'max_features': max_features,\n",
    "               'max_depth': max_depth,\n",
    "               'min_samples_split': min_samples_split,\n",
    "               'min_samples_leaf': min_samples_leaf}"
   ]
  },
  {
   "cell_type": "markdown",
   "id": "56583d60",
   "metadata": {},
   "source": [
    "**Case2**"
   ]
  },
  {
   "cell_type": "code",
   "execution_count": null,
   "id": "09152e6a",
   "metadata": {},
   "outputs": [],
   "source": [
    "random_grid = {\n",
    "    'n_estimators': [int(x) for x in np.linspace(start=200, stop=2000, num=10)],\n",
    "    'max_features': ['auto', 'sqrt'],\n",
    "    'max_depth': [int(x) for x in np.linspace(10, 110, num=11)] + [None],\n",
    "    'min_samples_split': [2, 5, 10],\n",
    "    'min_samples_leaf': [1, 2, 4],\n",
    "    'bootstrap': [True, False]\n",
    "}"
   ]
  },
  {
   "cell_type": "markdown",
   "id": "fa7a5f74",
   "metadata": {},
   "source": [
    "**Case3**"
   ]
  },
  {
   "cell_type": "code",
   "execution_count": null,
   "id": "750cb1b7",
   "metadata": {},
   "outputs": [],
   "source": [
    "random_grid = {\"n_estimators\": sp_randint(100, 500),\n",
    "              \"max_depth\": sp_randint(3, 10),\n",
    "              \"max_features\": sp_randint(1, 11),\n",
    "              \"min_samples_split\": sp_randint(2, 11),\n",
    "              \"min_samples_leaf\": sp_randint(1, 11),\n",
    "              \"bootstrap\": [True, False]}"
   ]
  },
  {
   "cell_type": "code",
   "execution_count": null,
   "id": "1fe92517",
   "metadata": {},
   "outputs": [],
   "source": [
    "print(random_grid)\n",
    "# Create a base model\n",
    "rf = RandomForestRegressor()\n",
    "scaler = StandardScaler()\n",
    "x_scaled = scaler.fit_transform(x)\n",
    "# Splitting the dataset into training and testing set (80/20)\n",
    "x_train, x_test, y_train, y_test = train_test_split(x_scaled, y, test_size = 0.2, random_state = 28)\n",
    "# Initialize the random search\n",
    "random_search = RandomizedSearchCV(\n",
    "    estimator=rf,\n",
    "    param_distributions=random_grid,\n",
    "    n_iter=100,  # Number of parameter settings that are sampled.\n",
    "    cv=4,  # Number of folds in cross-validation\n",
    "    verbose=2,  # Verbosity level\n",
    "    random_state=42,  # Seed\n",
    "    n_jobs=-1  # Number of cores to run in parallel\n",
    ")\n",
    "\n",
    "random_search.fit(x_train, y_train)\n",
    "# Print the best parameters\n",
    "print(f'Best parameters: {random_search.best_params_}')\n"
   ]
  },
  {
   "cell_type": "markdown",
   "id": "7eae8cf4",
   "metadata": {},
   "source": [
    "**Results**"
   ]
  },
  {
   "cell_type": "code",
   "execution_count": null,
   "id": "658043ff",
   "metadata": {},
   "outputs": [],
   "source": [
    "Best parameters: {'n_estimators': 400, 'min_samples_split': 2, 'min_samples_leaf': 1, 'max_features': 'sqrt', 'max_depth': None, 'bootstrap': False}\n",
    "Best parameters: {'bootstrap': False, 'max_depth': 9, 'max_features': 10, 'min_samples_leaf': 1, 'min_samples_split': 2, 'n_estimators': 329}\n",
    "Best parameters: {'n_estimators': 1400, 'min_samples_split': 2, 'min_samples_leaf': 1, 'max_features': 'log2', 'max_depth': 670}"
   ]
  },
  {
   "cell_type": "code",
   "execution_count": 23,
   "id": "673403f7",
   "metadata": {},
   "outputs": [
    {
     "data": {
      "text/plain": [
       "RandomForestRegressor(bootstrap=False, max_depth=9, max_features=10,\n",
       "                      n_estimators=329, random_state=42)"
      ]
     },
     "execution_count": 23,
     "metadata": {},
     "output_type": "execute_result"
    }
   ],
   "source": [
    "# Create a RandomForestRegressor model with the best parameters\n",
    "model1 = RandomForestRegressor(bootstrap=False,\n",
    "                           max_depth=9,\n",
    "                           max_features=10,\n",
    "                           min_samples_leaf=1,\n",
    "                           min_samples_split=2,\n",
    "                           n_estimators=329,\n",
    "                           random_state=42)  # Optional: for reproducibility\n",
    "scaler = StandardScaler()\n",
    "x_scaled = scaler.fit_transform(x)\n",
    "# Splitting the dataset into training and testing set (80/20)\n",
    "x_train, x_test, y_train, y_test = train_test_split(x_scaled, y, test_size = 0.2, random_state = 28)\n",
    "# Fit the model to your data\n",
    "model1.fit(x_train, y_train)"
   ]
  },
  {
   "cell_type": "code",
   "execution_count": 24,
   "id": "3224ce89",
   "metadata": {},
   "outputs": [
    {
     "name": "stdout",
     "output_type": "stream",
     "text": [
      "\u001b[1m\n",
      "MAE:  0.6207188167797927\n",
      "MSE:  1.1919643754839504\n",
      "RMSE:  1.0917712102285673\n",
      "R2:  0.9498064039637759\n",
      "\u001b[0m\n"
     ]
    }
   ],
   "source": [
    "Evolution_Metrics(model1,x_test,y_test)"
   ]
  },
  {
   "cell_type": "code",
   "execution_count": 25,
   "id": "d220f077",
   "metadata": {},
   "outputs": [
    {
     "data": {
      "text/plain": [
       "RandomForestRegressor(bootstrap=False, max_features='sqrt', n_estimators=400,\n",
       "                      random_state=42)"
      ]
     },
     "execution_count": 25,
     "metadata": {},
     "output_type": "execute_result"
    }
   ],
   "source": [
    "# Create a RandomForestRegressor model with the best parameters\n",
    "model_2 = RandomForestRegressor(bootstrap=False,\n",
    "                           max_depth=None,\n",
    "                           max_features='sqrt',\n",
    "                           min_samples_leaf=1,\n",
    "                           min_samples_split=2,\n",
    "                           n_estimators=400,\n",
    "                           random_state=42)  # Optional: for reproducibility\n",
    "\n",
    "scaler = StandardScaler()\n",
    "x_scaled = scaler.fit_transform(x)\n",
    "# Splitting the dataset into training and testing set (80/20)\n",
    "x_train, x_test, y_train, y_test = train_test_split(x_scaled, y, test_size = 0.2, random_state = 28)\n",
    "model_2.fit(x_train, y_train)"
   ]
  },
  {
   "cell_type": "code",
   "execution_count": 26,
   "id": "b957b85e",
   "metadata": {},
   "outputs": [
    {
     "name": "stdout",
     "output_type": "stream",
     "text": [
      "\u001b[1m\n",
      "MAE:  0.3454277809507498\n",
      "MSE:  0.4974373476517407\n",
      "RMSE:  0.7052923845127924\n",
      "R2:  0.9790529232291654\n",
      "\u001b[0m\n"
     ]
    }
   ],
   "source": [
    "Evolution_Metrics(model_2,x_test,y_test)"
   ]
  },
  {
   "cell_type": "code",
   "execution_count": 27,
   "id": "58731988",
   "metadata": {},
   "outputs": [
    {
     "data": {
      "text/plain": [
       "RandomForestRegressor(max_depth=670, max_features='log2', n_estimators=1400,\n",
       "                      n_jobs=-1, random_state=42)"
      ]
     },
     "execution_count": 27,
     "metadata": {},
     "output_type": "execute_result"
    }
   ],
   "source": [
    "# Create a RandomForestRegressor with the best parameters\n",
    "model_3 = RandomForestRegressor(\n",
    "    n_estimators=1400,\n",
    "    min_samples_split=2,\n",
    "    min_samples_leaf=1,\n",
    "    max_features='log2',\n",
    "    max_depth=670,\n",
    "    random_state=42,  # Seed\n",
    "    n_jobs=-1  # Use all processors\n",
    ")\n",
    "scaler = StandardScaler()\n",
    "x_scaled = scaler.fit_transform(x)\n",
    "# Splitting the dataset into training and testing set (80/20)\n",
    "x_train, x_test, y_train, y_test = train_test_split(x_scaled, y, test_size = 0.2, random_state = 28)\n",
    "# Train the model\n",
    "model_3.fit(x_train, y_train)"
   ]
  },
  {
   "cell_type": "code",
   "execution_count": 28,
   "id": "50507336",
   "metadata": {},
   "outputs": [
    {
     "name": "stdout",
     "output_type": "stream",
     "text": [
      "\u001b[1m\n",
      "MAE:  0.38106342871507204\n",
      "MSE:  0.5886044429090986\n",
      "RMSE:  0.7672056066720958\n",
      "R2:  0.9752138786693932\n",
      "\u001b[0m\n"
     ]
    }
   ],
   "source": [
    "Evolution_Metrics(model_3,x_test,y_test)"
   ]
  }
 ],
 "metadata": {
  "kernelspec": {
   "display_name": "Python 3 (ipykernel)",
   "language": "python",
   "name": "python3"
  },
  "language_info": {
   "codemirror_mode": {
    "name": "ipython",
    "version": 3
   },
   "file_extension": ".py",
   "mimetype": "text/x-python",
   "name": "python",
   "nbconvert_exporter": "python",
   "pygments_lexer": "ipython3",
   "version": "3.9.7"
  }
 },
 "nbformat": 4,
 "nbformat_minor": 5
}
